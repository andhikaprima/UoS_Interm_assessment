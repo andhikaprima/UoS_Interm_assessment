{
 "cells": [
  {
   "cell_type": "code",
   "execution_count": null,
   "metadata": {},
   "outputs": [],
   "source": [
    "# Nanopore pipeline to basecall and demultiple nanopore fast5 raw data"
   ]
  },
  {
   "cell_type": "code",
   "execution_count": null,
   "metadata": {},
   "outputs": [],
   "source": [
    "# print work directory\n",
    "pwd"
   ]
  },
  {
   "cell_type": "code",
   "execution_count": null,
   "metadata": {},
   "outputs": [],
   "source": [
    "# change directory\n",
    "cd /home/andhika/extrastorage/MinION/dum_fishy/20190313_0937_MN31442_FAK11288_e5927bdc/"
   ]
  },
  {
   "cell_type": "code",
   "execution_count": null,
   "metadata": {},
   "outputs": [],
   "source": [
    "# basecalling using guppy\n",
    "\n",
    "~/extrastorage/SOFTWARE/ont_guppy_cpu/bin/guppy_basecaller \\\n",
    "--input_path ~/extrastorage/MinION/dum_fishy/20190313_0937_MN31442_FAK11288_e5927bdc/fast5 \\\n",
    "--save_path ~/extrastorage/MinION/dum_fishy/20190313_0937_MN31442_FAK11288_e5927bdc/basecall_2 \\\n",
    "--flowcell FLO-MIN106 --kit SQK-LSK109"
   ]
  },
  {
   "cell_type": "code",
   "execution_count": null,
   "metadata": {},
   "outputs": [],
   "source": [
    "# combine all barcode into 1 file\n",
    "cat basecall/*fastq > combined.fastq"
   ]
  },
  {
   "cell_type": "code",
   "execution_count": null,
   "metadata": {},
   "outputs": [],
   "source": [
    "# check\n",
    "grep -c '^+$' combined.fastq\n",
    "# 1,800,063 million reads"
   ]
  },
  {
   "cell_type": "code",
   "execution_count": null,
   "metadata": {},
   "outputs": [],
   "source": [
    "# demultiplex basecalled fast5 reads\n",
    "qcat -f combined.fastq -b final_NPreads &> final_log"
   ]
  },
  {
   "cell_type": "code",
   "execution_count": null,
   "metadata": {},
   "outputs": [],
   "source": [
    "# open file\n",
    "less final_log \n",
    "\n",
    "# quit\n",
    "q"
   ]
  },
  {
   "cell_type": "code",
   "execution_count": null,
   "metadata": {},
   "outputs": [],
   "source": [
    "## EXTRACT BY SAMPLE\n",
    "# create folder for analyzing by sample\n",
    "mkdir dhika_files\n",
    "cd dhika_files"
   ]
  },
  {
   "cell_type": "code",
   "execution_count": null,
   "metadata": {},
   "outputs": [],
   "source": [
    "# create folder for barcode sample\n",
    "mkdir sample"
   ]
  },
  {
   "cell_type": "code",
   "execution_count": null,
   "metadata": {},
   "outputs": [],
   "source": [
    "# Tried to extract by barcode basecall to barcode\n",
    "cat basecall/*.fastq | qcat -b dhika_files/sample/"
   ]
  },
  {
   "cell_type": "code",
   "execution_count": null,
   "metadata": {},
   "outputs": [],
   "source": [
    "# create folder to converst fastq to fasta\n",
    "mkdir sample_fasta"
   ]
  },
  {
   "cell_type": "code",
   "execution_count": null,
   "metadata": {},
   "outputs": [],
   "source": [
    "# convert fastq to fasta\n",
    "sed -n '1~4s/^@/>/p;2~4p' sample/barcode01.fastq > sample_fasta/barcode01.fasta\n",
    "sed -n '1~4s/^@/>/p;2~4p' sample/barcode02.fastq > sample_fasta/barcode02.fasta\n",
    "sed -n '1~4s/^@/>/p;2~4p' sample/barcode03.fastq > sample_fasta/barcode03.fasta\n",
    "sed -n '1~4s/^@/>/p;2~4p' sample/barcode04.fastq > sample_fasta/barcode04.fasta\n",
    "sed -n '1~4s/^@/>/p;2~4p' sample/barcode05.fastq > sample_fasta/barcode05.fasta\n",
    "sed -n '1~4s/^@/>/p;2~4p' sample/barcode06.fastq > sample_fasta/barcode06.fasta\n",
    "sed -n '1~4s/^@/>/p;2~4p' sample/barcode07.fastq > sample_fasta/barcode07.fasta\n",
    "sed -n '1~4s/^@/>/p;2~4p' sample/barcode08.fastq > sample_fasta/barcode08.fasta\n",
    "sed -n '1~4s/^@/>/p;2~4p' sample/barcode09.fastq > sample_fasta/barcode09.fasta\n",
    "sed -n '1~4s/^@/>/p;2~4p' sample/barcode10.fastq > sample_fasta/barcode010.fasta"
   ]
  },
  {
   "cell_type": "code",
   "execution_count": null,
   "metadata": {},
   "outputs": [],
   "source": [
    "# Assembling\n",
    "# We use genomeSize=16k as it is the expected size of a mitochondrial genome.\n",
    "# Only 3 barcodes successfully assembled (barcode 2, barcode 3 and barcode 5)\n",
    "canu -d assemble2/ -p barcode2 genomeSize=16k minReadLength=500 -nanopore-raw sample/barcode02.fastq 2> canu2.log\n",
    "canu -d assemble3/ -p barcode3 genomeSize=16k minReadLength=500 -nanopore-raw sample/barcode03.fastq 2> canu3.log\n",
    "canu -d assemble5/ -p barcode5 genomeSize=16k minReadLength=500 -nanopore-raw sample/barcode05.fastq 2> canu5.log"
   ]
  },
  {
   "cell_type": "code",
   "execution_count": null,
   "metadata": {},
   "outputs": [],
   "source": [
    "# Organized the contigs assemblages\n",
    "mkdir assemble_fasta\n",
    "cp assemble2/barcode2.contigs.fasta assemble_fasta/\n",
    "cp assemble3/barcode3.contigs.fasta assemble_fasta/\n",
    "cp assemble5/barcode5.contigs.fasta assemble_fasta/"
   ]
  },
  {
   "cell_type": "code",
   "execution_count": null,
   "metadata": {},
   "outputs": [],
   "source": [
    "# We then blast the contigs agains nt\n",
    "blastn -db /extrastorage/home/refdbs/blastdb/nt/nt -query assemble_fasta/barcode2.contigs.fasta \\\n",
    "-out blastn/barcode2_contigs_nt.blastn -outfmt \\\n",
    "\"6 qseqid sseqid pident length evalue salltitles sallacc sstart send qstart qend\" -max_target_seqs 2  \\\n",
    "-max_hsps 2 -num_threads 23 -culling_limit 1 -evalue 0.001\n",
    "\n",
    "blastn -db /extrastorage/home/refdbs/blastdb/nt/nt -query assemble_fasta/barcode3.contigs.fasta \\\n",
    "-out blastn/barcode3_contigs_nt.blastn -outfmt \\\n",
    "\"6 qseqid sseqid pident length evalue salltitles sallacc sstart send qstart qend\" -max_target_seqs 2  \\\n",
    "-max_hsps 2 -num_threads 23 -culling_limit 1 -evalue 0.001\n",
    "\n",
    "blastn -db /extrastorage/home/refdbs/blastdb/nt/nt -query assemble_fasta/barcode5.contigs.fasta \\\n",
    "-out blastn/barcode5_contigs_nt.blastn -outfmt \\\n",
    "\"6 qseqid sseqid pident length evalue salltitles sallacc sstart send qstart qend\" -max_target_seqs 2  \\\n",
    "-max_hsps 2 -num_threads 23 -culling_limit 1 -evalue 0.001"
   ]
  },
  {
   "cell_type": "code",
   "execution_count": null,
   "metadata": {},
   "outputs": [],
   "source": [
    "# open the blastn files"
   ]
  },
  {
   "cell_type": "code",
   "execution_count": null,
   "metadata": {},
   "outputs": [],
   "source": [
    "cat blastn/barcode2_contigs_nt.blastn\n",
    "\n",
    "## Barcode 2 \n",
    "#tig00000001\tgi|442564744|dbj|AB731722.1|\t98.462\t65\t1.17e-20\tPrionace glauca DNA, microsatellite:FV6T5\\\n",
    "#AB731722\t1\t65\t1139\t1203"
   ]
  },
  {
   "cell_type": "code",
   "execution_count": null,
   "metadata": {},
   "outputs": [],
   "source": [
    "cat blastn/barcode3_contigs_nt.blastn\n",
    "\n",
    "## Barcode 3\n",
    "#tig00000178\tgi|442564744|dbj|AB731722.1|\t98.462\t65\t1.08e-20\tPrionace glauca DNA, microsatellite:FV6T5\t\\\n",
    "    AB731722\t65\t1\t2686\t2750"
   ]
  },
  {
   "cell_type": "code",
   "execution_count": null,
   "metadata": {},
   "outputs": [],
   "source": [
    "cat blastn/barcode5_contigs_nt.blastn\n",
    "\n",
    "## Barcode 5\n",
    "#tig00000001\tgi|19067986|gb|AY049833.1|\t99.944\t1780\t0.0\tGaleocerdo cuvier 18S ribosomal RNA gene, \\\n",
    "#complete sequence\tAY049833\t1\t1780\t664\t2442"
   ]
  },
  {
   "cell_type": "code",
   "execution_count": null,
   "metadata": {},
   "outputs": [],
   "source": [
    "# We count how many genes blast assings to each shark species"
   ]
  },
  {
   "cell_type": "code",
   "execution_count": null,
   "metadata": {},
   "outputs": [],
   "source": [
    "cut -f6 blastn/barcode2_contigs_nt.blastn | sort | uniq -c | sort -nr\n",
    "\n",
    "## Barcode 2\n",
    "#3 Triakis scyllium IL-1 gene for interleukin-1beta, complete cds\n",
    "#3 Ginglymostoma cirratum clone GC_Ba-557B6, complete sequence\n",
    "#2 Triakis scyllium MIP3 gene for macrophage inflammatory protein-3 alpha, complete cds\n",
    "#2 Sphyrna lewini GRLN gene for preproghrelin, complete cds\n",
    "#2 Heterodontus francisci Evx2 (evx2), HoxD14 (HoxD14), HoxD13 (HoxD13), HoxD12 (HoxD12), HoxD11 (HoxD11), HoxD10 (HoxD10), HoxD9 (HoxD9), HoxD8 (HoxD8), HoxD5 (HoxD5), HoxD4 (HoxD4), HoxD3 (HoxD3), HoxD2 (HoxD2), and HoxD1 (HoxD1) genes, complete cds\n",
    "#2 Carcharhinus plumbeus Ig lambda light chain gene, complete cds\n",
    "#1 Urobatis halleri clone Uha111 microsatellite sequence\n",
    "#1 Triakis scyllium TNFRSF6B gene for tumor necrosis factor receptor superfamily, member 6b, complete cds\n",
    "#1 Scyliorhinus canicula Cluster_HOXB sequence\n",
    "#1 Prionace glauca DNA, microsatellite:FV6T5\n",
    "#1 Ginglymostoma cirratum beta-2 microglobulin (bm2) gene, complete sequence\n",
    "#1 Chiloscyllium punctatum antithrombin (serpinc1) gene, complete cds\n",
    "#1 Carcharhinus plumbeus recombination activating gene 1 (RAG1) gene, partial cds; and recombination activating gene 2 (RAG2) gene, complete cds"
   ]
  },
  {
   "cell_type": "code",
   "execution_count": null,
   "metadata": {},
   "outputs": [],
   "source": [
    "cut -f6 blastn/barcode3_contigs_nt.blastn | sort | uniq -c | sort -nr\n",
    "\n",
    "## Barcode 3\n",
    "#3 Ginglymostoma cirratum clone GC_Ba-557B6, complete sequence\n",
    "#2 Carcharhinus plumbeus recombination activating gene 1 (RAG1) gene, partial cds; and recombination activating gene 2 (RAG2) gene, complete cds\n",
    "#1 Triakis scyllium MIP3 gene for macrophage inflammatory protein-3 alpha, complete cds\n",
    "#1 Sphyrna lewini GRLN gene for preproghrelin, complete cds\n",
    "#1 Scyliorhinus canicula Cluster_HOXD sequence\n",
    "#1 Prionace glauca DNA, microsatellite:FV6T5\n",
    "#1 Heterodontus francisci Evx2 (evx2), HoxD14 (HoxD14), HoxD13 (HoxD13), HoxD12 (HoxD12), HoxD11 (HoxD11), HoxD10 (HoxD10), HoxD9 (HoxD9), HoxD8 (HoxD8), HoxD5 (HoxD5), HoxD4 (HoxD4), HoxD3 (HoxD3), HoxD2 (HoxD2), and HoxD1 (HoxD1) genes, complete cds\n",
    "#1 Gallus gallus fosmid J_AD-95M2, complete sequence\n",
    "#1 Gallus gallus BAC clone CH261-185L12 from chromosome w, complete sequence\n",
    "#1 Galeocerdo cuvier microsatellite TGR1185 sequence\n",
    "#1 Carcharhinus sorrah microsatellite CS08 sequence\n",
    "#1 Carcharhinus plumbeus Ig lambda light chain gene, complete cds\n",
    "#1 Callorhinchus milii clone P21F19.Kidney.k16 mRNA sequence\n"
   ]
  },
  {
   "cell_type": "code",
   "execution_count": null,
   "metadata": {},
   "outputs": [],
   "source": [
    "cut -f6 blastn/barcode5_contigs_nt.blastn | sort | uniq -c | sort -nr\n",
    "\n",
    "## Barcode 5\n",
    "#6 Sphyrna lewini GRLN gene for preproghrelin, complete cds\n",
    "#4 Triakis scyllium MIP3 gene for macrophage inflammatory protein-3 alpha, complete cds\n",
    "#4 Squalus acanthias cd79a gene for B-cell antigen receptor complex-associated protein alpha chain\n",
    "#4 Scyliorhinus canicula Fam45a protein (Fam45a), Eif3a protein (Eif3a), and Nanos1A protein (Nanos1A) genes, complete cds\n",
    "#4 PREDICTED: Rhincodon typus uncharacterized LOC109924674 (LOC109924674), ncRNA\n",
    "#4 PREDICTED: Rhincodon typus uncharacterized LOC109924588 (LOC109924588), transcript variant X1, ncRNA\n",
    "#4 Ginglymostoma cirratum clone GC_Ba-557B6, complete sequence\n",
    "#4 Carcharhinus plumbeus recombination activating gene 1 (RAG1) gene, partial cds; and recombination activating gene 2 (RAG2) gene, complete cds\n",
    "#3 Galeocerdo cuvier mitochondrion, complete genome\n",
    "#2 Squalus acanthias clone SA_Bc-133E21, complete sequence\n",
    "#2 Scyliorhinus canicula Cluster_HOXB sequence\n",
    "#2 Hexanchus griseus microsatellite Hgri157 sequence\n",
    "#2 Ginglymostoma cirratum beta-2 microglobulin (bm2) gene, complete sequence\n",
    "#2 Galeocerdo cuvier microsatellite TGR1185 sequence\n",
    "#2 Chiloscyllium punctatum antithrombin (serpinc1) gene, complete cds\n",
    "#2 Carcharhinus plumbeus T cell receptor gamma (TCRG) gene, partial sequence\n",
    "#1 Zebrafish DNA sequence from clone DKEY-204A24 in linkage group 19, complete sequence\n",
    "#1 Urobatis halleri clone Uha111 microsatellite sequence\n",
    "#1 Triakis scyllium TNFRSF6B gene for tumor necrosis factor receptor superfamily, member 6b, complete cds\n",
    "#1 Triakis scyllium IL-1 gene for interleukin-1beta, complete cds\n",
    "#1 Triakis scyllium gene for CC chemokine, complete cds\n",
    "#1 Scyliorhinus canicula Cluster_HOXD sequence\n",
    "#1 Scophthalmus maximus chromosome 4\n",
    "#1 Prionace glauca DNA, microsatellite:DAE7L\n",
    "#1 PREDICTED: Rhincodon typus zinc finger protein 345-like (LOC109925924), mRNA\n",
    "#1 PREDICTED: Rhincodon typus zinc finger protein 271-like (LOC109912386), mRNA\n",
    "#1 PREDICTED: Rhincodon typus zinc finger protein 239-like (LOC109912674), transcript variant X1, mRNA\n",
    "#1 PREDICTED: Rhincodon typus uncharacterized LOC109930996 (LOC109930996), ncRNA\n",
    "#1 PREDICTED: Rhincodon typus uncharacterized LOC109926405 (LOC109926405), ncRNA\n",
    "#1 PREDICTED: Rhincodon typus uncharacterized LOC109925472 (LOC109925472), ncRNA\n",
    "#1 PREDICTED: Rhincodon typus uncharacterized LOC109914972 (LOC109914972), ncRNA\n",
    "#1 PREDICTED: Rhincodon typus uncharacterized LOC109913125 (LOC109913125), ncRNA\n",
    "#1 PREDICTED: Rhincodon typus 5-aminolevulinate synthase, erythroid-specific, mitochondrial-like (LOC109917145), mRNA\n",
    "#1 PREDICTED: Pelodiscus sinensis uncharacterized LOC106731724 (LOC106731724), mRNA\n",
    "#1 PREDICTED: Callorhinchus milii type-2 angiotensin II receptor-like (LOC103189739), mRNA\n",
    "#1 Oryzias latipes strain HNI chromosome 23\n",
    "#1 Negaprion brevirostris microsatellite LS44 sequence\n",
    "#1 Leucoraja erinacea Hoxa gene cluster, complete sequence\n",
    "#1 Hexanchus griseus microsatellite Hgri1237 sequence\n",
    "#1 Heterodontus francisci Evx2 (evx2), HoxD14 (HoxD14), HoxD13 (HoxD13), HoxD12 (HoxD12), HoxD11 (HoxD11), HoxD10 (HoxD10), HoxD9 (HoxD9), HoxD8 (HoxD8), HoxD5 (HoxD5), HoxD4 (HoxD4), HoxD3 (HoxD3), HoxD2 (HoxD2), and HoxD1 (HoxD1) genes, complete cds\n",
    "#1 Ginglymostoma cirratum ZFP112, b2m, brd2 genes for similar to zinc finger protein 112, beta 2 microglobulin, bromodomain containing 2, complete cds\n",
    "#1 Ginglymostoma cirratum proto-oncogene tyrosine-protein kinase LCK (LCK) mRNA, complete cds\n",
    "#1 Galeocerdo cuvier voucher eFish-1155 mitochondrion, complete genome\n",
    "#1 Galeocerdo cuvier internal transcribed spacer 2, and 28S ribosomal RNA gene, partial sequence\n",
    "#1 Galeocerdo cuvier 18S ribosomal RNA gene, complete sequence\n",
    "#1 Cyprinus carpio genome assembly common carp genome, scaffold: LG41, chromosome: 41"
   ]
  }
 ],
 "metadata": {
  "kernelspec": {
   "display_name": "Python 3",
   "language": "python",
   "name": "python3"
  },
  "language_info": {
   "codemirror_mode": {
    "name": "ipython",
    "version": 3
   },
   "file_extension": ".py",
   "mimetype": "text/x-python",
   "name": "python",
   "nbconvert_exporter": "python",
   "pygments_lexer": "ipython3",
   "version": "3.7.7"
  }
 },
 "nbformat": 4,
 "nbformat_minor": 2
}
