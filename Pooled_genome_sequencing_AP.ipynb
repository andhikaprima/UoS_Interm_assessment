{
 "cells": [
  {
   "cell_type": "code",
   "execution_count": null,
   "metadata": {
    "collapsed": true
   },
   "outputs": [],
   "source": [
    "# Nanopore pipeline to basecall and demultiple nanopore fast5 raw data"
   ]
  },
  {
   "cell_type": "code",
   "execution_count": null,
   "metadata": {
    "collapsed": true
   },
   "outputs": [],
   "source": [
    "# print work directory\n",
    "pwd"
   ]
  },
  {
   "cell_type": "code",
   "execution_count": null,
   "metadata": {
    "collapsed": true
   },
   "outputs": [],
   "source": [
    "# change directory\n",
    "cd /home/andhika/extrastorage/fishy/20190313_0937_MN31442_FAK11288_e5927bdc/"
   ]
  },
  {
   "cell_type": "code",
   "execution_count": null,
   "metadata": {
    "collapsed": true
   },
   "outputs": [],
   "source": [
    "# basecalling using guppy\n",
    "\n",
    "~/extrastorage/SOFTWARE/ont_guppy_cpu/bin/guppy_basecaller --input_path ~/extrastorage/MinION/dum_fishy/20190313_0937_MN31442_FAK11288_e5927bdc/fast5 --save_path ~/extrastorage/MinION/dum_fishy/20190313_0937_MN31442_FAK11288_e5927bdc/basecall_2 --flowcell FLO-MIN106 --kit SQK-LSK109"
   ]
  },
  {
   "cell_type": "code",
   "execution_count": null,
   "metadata": {
    "collapsed": true
   },
   "outputs": [],
   "source": [
    "# combine all barcode into 1 file\n",
    "cat basecall/*fastq > combined.fastq"
   ]
  },
  {
   "cell_type": "code",
   "execution_count": null,
   "metadata": {
    "collapsed": true
   },
   "outputs": [],
   "source": [
    "# check\n",
    "grep -c '^+$' combined.fastq\n",
    "# 1,800,063 million reads"
   ]
  },
  {
   "cell_type": "code",
   "execution_count": null,
   "metadata": {
    "collapsed": true
   },
   "outputs": [],
   "source": [
    "# demultiplex basecalled fast5 reads\n",
    "qcat -f combined.fastq -b final_NPreads &> final_log"
   ]
  },
  {
   "cell_type": "code",
   "execution_count": null,
   "metadata": {
    "collapsed": true
   },
   "outputs": [],
   "source": [
    "# open file\n",
    "less final_log \n",
    "\n",
    "# quit\n",
    "q"
   ]
  },
  {
   "cell_type": "code",
   "execution_count": null,
   "metadata": {
    "collapsed": true
   },
   "outputs": [],
   "source": [
    "## EXTRACT BY SAMPLE\n",
    "# create folder for analyzing by sample\n",
    "mkdir dhika_files\n",
    "cd dhika_files"
   ]
  },
  {
   "cell_type": "code",
   "execution_count": null,
   "metadata": {
    "collapsed": true
   },
   "outputs": [],
   "source": [
    "# create folder for barcode sample\n",
    "mkdir sample"
   ]
  },
  {
   "cell_type": "code",
   "execution_count": null,
   "metadata": {
    "collapsed": true
   },
   "outputs": [],
   "source": [
    "# Tried to extract by barcode basecall to barcode\n",
    "cat basecall/*.fastq | qcat -b dhika_files/sample/"
   ]
  },
  {
   "cell_type": "code",
   "execution_count": null,
   "metadata": {
    "collapsed": true
   },
   "outputs": [],
   "source": [
    "# create folder for blast\n",
    "mkdir out_ncbi"
   ]
  },
  {
   "cell_type": "code",
   "execution_count": null,
   "metadata": {
    "collapsed": true
   },
   "outputs": [],
   "source": [
    "# blast\n",
    "blastn -query sample/barcode01.fastq -db /extrastorage/home/refdbs/blastdb/nt/nt -num_threads 23 -out out_ncbi/barcode01_ncbi\n",
    "blastn -query sample/barcode02.fastq -db /extrastorage/home/refdbs/blastdb/nt/nt -num_threads 23 -out out_ncbi/barcode02_ncbi\n",
    "blastn -query sample/barcode03.fastq -db /extrastorage/home/refdbs/blastdb/nt/nt -num_threads 23 -out out_ncbi/barcode03_ncbi\n",
    "blastn -query sample/barcode04.fastq -db /extrastorage/home/refdbs/blastdb/nt/nt -num_threads 23 -out out_ncbi/barcode04_ncbi\n",
    "blastn -query sample/barcode05.fastq -db /extrastorage/home/refdbs/blastdb/nt/nt -num_threads 23 -out out_ncbi/barcode05_ncbi\n",
    "blastn -query sample/barcode06.fastq -db /extrastorage/home/refdbs/blastdb/nt/nt -num_threads 23 -out out_ncbi/barcode06_ncbi\n",
    "blastn -query sample/barcode07.fastq -db /extrastorage/home/refdbs/blastdb/nt/nt -num_threads 23 -out out_ncbi/barcode07_ncbi\n",
    "blastn -query sample/barcode08.fastq -db /extrastorage/home/refdbs/blastdb/nt/nt -num_threads 23 -out out_ncbi/barcode08_ncbi\n",
    "blastn -query sample/barcode09.fastq -db /extrastorage/home/refdbs/blastdb/nt/nt -num_threads 23 -out out_ncbi/barcode09_ncbi\n",
    "blastn -query sample/barcode10.fastq -db /extrastorage/home/refdbs/blastdb/nt/nt -num_threads 23 -out out_ncbi/barcode10_ncbi"
   ]
  },
  {
   "cell_type": "code",
   "execution_count": null,
   "metadata": {
    "collapsed": true
   },
   "outputs": [],
   "source": [
    "# create folder to converst fastq to fasta\n",
    "mkdir sample_fasta"
   ]
  },
  {
   "cell_type": "code",
   "execution_count": null,
   "metadata": {
    "collapsed": true
   },
   "outputs": [],
   "source": [
    "# convert fastq to fasta\n",
    "sed -n '1~4s/^@/>/p;2~4p' sample/barcode01.fastq > sample_fasta/barcode01.fasta\n",
    "sed -n '1~4s/^@/>/p;2~4p' sample/barcode02.fastq > sample_fasta/barcode02.fasta\n",
    "sed -n '1~4s/^@/>/p;2~4p' sample/barcode03.fastq > sample_fasta/barcode03.fasta\n",
    "sed -n '1~4s/^@/>/p;2~4p' sample/barcode04.fastq > sample_fasta/barcode04.fasta\n",
    "sed -n '1~4s/^@/>/p;2~4p' sample/barcode05.fastq > sample_fasta/barcode05.fasta\n",
    "sed -n '1~4s/^@/>/p;2~4p' sample/barcode06.fastq > sample_fasta/barcode06.fasta\n",
    "sed -n '1~4s/^@/>/p;2~4p' sample/barcode07.fastq > sample_fasta/barcode07.fasta\n",
    "sed -n '1~4s/^@/>/p;2~4p' sample/barcode08.fastq > sample_fasta/barcode08.fasta\n",
    "sed -n '1~4s/^@/>/p;2~4p' sample/barcode09.fastq > sample_fasta/barcode09.fasta\n",
    "sed -n '1~4s/^@/>/p;2~4p' sample/barcode10.fastq > sample_fasta/barcode010.fasta"
   ]
  },
  {
   "cell_type": "code",
   "execution_count": null,
   "metadata": {
    "collapsed": true
   },
   "outputs": [],
   "source": [
    "# Assembling\n",
    "canu -d assemble/ -p shark genomeSize=16k minReadLength=500 -nanopore-raw combined.fastq 2> canu.log\n",
    "canu -d assemble/ -p barcode01 genomeSize=16k minReadLength=500 -nanopore-raw sample/barcode01.fastq 2> canu.log"
   ]
  },
  {
   "cell_type": "code",
   "execution_count": null,
   "metadata": {
    "collapsed": true
   },
   "outputs": [],
   "source": [
    "cp assemble/shark.contigs.fasta shark.contigs.fasta"
   ]
  },
  {
   "cell_type": "code",
   "execution_count": null,
   "metadata": {
    "collapsed": true
   },
   "outputs": [],
   "source": [
    "blastn -db /extrastorage/home/refdbs/blastdb/nt/nt -query sample_fasta/barcode01.fasta -out blastn/barcode01_nt.blastn -outfmt \"6 qseqid sseqid pident length evalue salltitles sallacc sstart send qstart qend\" -max_target_seqs 2  -max_hsps 2 -num_threads 16 -culling_limit 1 -evalue 0.001"
   ]
  },
  {
   "cell_type": "code",
   "execution_count": null,
   "metadata": {
    "collapsed": true
   },
   "outputs": [],
   "source": [
    "blastn -db /extrastorage/home/refdbs/blastdb/nt/nt -query sample_fasta/barcode02.fasta -out blastn/barcode02_nt.blastn -outfmt \"6 qseqid sseqid pident length evalue salltitles sallacc sstart send qstart qend\" -max_target_seqs 2  -max_hsps 2 -num_threads 16 -culling_limit 1 -evalue 0.001"
   ]
  },
  {
   "cell_type": "code",
   "execution_count": null,
   "metadata": {
    "collapsed": true
   },
   "outputs": [],
   "source": [
    "# barcode01\n",
    "# 809fcd04-a1da-4889-87c6-030d3a1c2aae is the highest hits | Scyliorhinus canicula Cluster_HOXA sequence\n",
    "samtools faidx sample_fasta/barcode01.fasta '809fcd04-a1da-4889-87c6-030d3a1c2aae' > samtools/809fcd04-a1da-4889-87c6-030d3a1c2aae.fasta"
   ]
  },
  {
   "cell_type": "code",
   "execution_count": null,
   "metadata": {
    "collapsed": true
   },
   "outputs": [],
   "source": [
    "# barcode02\n",
    "#1cef951c-5c99-4862-9f3b-e170eb4ac7cd | Carcharhinus plumbeus T cell receptor gamma (TCRG) gene | FJ854492\n",
    "samtools faidx sample_fasta/barcode02.fasta '1cef951c-5c99-4862-9f3b-e170eb4ac7cd' > samtools/barcode02_1cef951c-5c99-4862-9f3b-e170eb4ac7cd.fasta\n"
   ]
  },
  {
   "cell_type": "code",
   "execution_count": null,
   "metadata": {
    "collapsed": true
   },
   "outputs": [],
   "source": [
    "#Barcode 1\n",
    "blastn -db /extrastorage/home/refdbs/blastdb/nt/nt -query samtools/809fcd04-a1da-4889-87c6-030d3a1c2aae.fasta -out genes_barcode1.blast -outfmt \"6 qseqid sseqid pident length evalue sscinames salltitles sallacc sstart send qstart qend\" -max_target_seqs 1 -num_threads 16 -culling_limit 1 -max_hsps 1 -evalue 0.001"
   ]
  },
  {
   "cell_type": "code",
   "execution_count": null,
   "metadata": {
    "collapsed": true
   },
   "outputs": [],
   "source": [
    "# Scyliorhinus canicula"
   ]
  },
  {
   "cell_type": "code",
   "execution_count": null,
   "metadata": {
    "collapsed": true
   },
   "outputs": [],
   "source": [
    "#Barcode 2\n",
    "blastn -db /extrastorage/home/refdbs/blastdb/nt/nt -query samtools/barcode02_1cef951c-5c99-4862-9f3b-e170eb4ac7cd.fasta -out genes_barcode2.blast -outfmt \"6 qseqid sseqid pident length evalue sscinames salltitles sallacc sstart send qstart qend\" -max_target_seqs 1 -num_threads 16 -culling_limit 1 -max_hsps 1 -evalue 0.001"
   ]
  },
  {
   "cell_type": "code",
   "execution_count": null,
   "metadata": {
    "collapsed": true
   },
   "outputs": [],
   "source": [
    "# Carcharhinus plumbeus"
   ]
  },
  {
   "cell_type": "code",
   "execution_count": null,
   "metadata": {
    "collapsed": true
   },
   "outputs": [],
   "source": []
  },
  {
   "cell_type": "code",
   "execution_count": null,
   "metadata": {
    "collapsed": true
   },
   "outputs": [],
   "source": []
  },
  {
   "cell_type": "code",
   "execution_count": null,
   "metadata": {
    "collapsed": true
   },
   "outputs": [],
   "source": []
  }
 ],
 "metadata": {
  "kernelspec": {
   "display_name": "Python 3",
   "language": "python",
   "name": "python3"
  },
  "language_info": {
   "codemirror_mode": {
    "name": "ipython",
    "version": 3
   },
   "file_extension": ".py",
   "mimetype": "text/x-python",
   "name": "python",
   "nbconvert_exporter": "python",
   "pygments_lexer": "ipython3",
   "version": "3.6.0"
  }
 },
 "nbformat": 4,
 "nbformat_minor": 2
}
