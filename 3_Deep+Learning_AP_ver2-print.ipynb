{
 "cells": [
  {
   "cell_type": "code",
   "execution_count": 1,
   "metadata": {
    "collapsed": false
   },
   "outputs": [
    {
     "name": "stdout",
     "output_type": "stream",
     "text": [
      "Checking whether there is an H2O instance running at http://localhost:54321 . connected.\n"
     ]
    },
    {
     "data": {
      "text/html": [
       "<div style=\"overflow:auto\"><table style=\"width:50%\"><tr><td>H2O_cluster_uptime:</td>\n",
       "<td>3 mins 15 secs</td></tr>\n",
       "<tr><td>H2O_cluster_timezone:</td>\n",
       "<td>Europe/London</td></tr>\n",
       "<tr><td>H2O_data_parsing_timezone:</td>\n",
       "<td>UTC</td></tr>\n",
       "<tr><td>H2O_cluster_version:</td>\n",
       "<td>3.30.1.3</td></tr>\n",
       "<tr><td>H2O_cluster_version_age:</td>\n",
       "<td>1 month and 24 days </td></tr>\n",
       "<tr><td>H2O_cluster_name:</td>\n",
       "<td>H2O_from_python_ISDADS_ezp715_vebqcm</td></tr>\n",
       "<tr><td>H2O_cluster_total_nodes:</td>\n",
       "<td>1</td></tr>\n",
       "<tr><td>H2O_cluster_free_memory:</td>\n",
       "<td>1.626 Gb</td></tr>\n",
       "<tr><td>H2O_cluster_total_cores:</td>\n",
       "<td>4</td></tr>\n",
       "<tr><td>H2O_cluster_allowed_cores:</td>\n",
       "<td>4</td></tr>\n",
       "<tr><td>H2O_cluster_status:</td>\n",
       "<td>locked, healthy</td></tr>\n",
       "<tr><td>H2O_connection_url:</td>\n",
       "<td>http://localhost:54321</td></tr>\n",
       "<tr><td>H2O_connection_proxy:</td>\n",
       "<td>{\"http\": null, \"https\": null}</td></tr>\n",
       "<tr><td>H2O_internal_security:</td>\n",
       "<td>False</td></tr>\n",
       "<tr><td>H2O_API_Extensions:</td>\n",
       "<td>Amazon S3, XGBoost, Algos, AutoML, Core V3, TargetEncoder, Core V4</td></tr>\n",
       "<tr><td>Python_version:</td>\n",
       "<td>2.7.18 final</td></tr></table></div>"
      ],
      "text/plain": [
       "--------------------------  ------------------------------------------------------------------\n",
       "H2O_cluster_uptime:         3 mins 15 secs\n",
       "H2O_cluster_timezone:       Europe/London\n",
       "H2O_data_parsing_timezone:  UTC\n",
       "H2O_cluster_version:        3.30.1.3\n",
       "H2O_cluster_version_age:    1 month and 24 days\n",
       "H2O_cluster_name:           H2O_from_python_ISDADS_ezp715_vebqcm\n",
       "H2O_cluster_total_nodes:    1\n",
       "H2O_cluster_free_memory:    1.626 Gb\n",
       "H2O_cluster_total_cores:    4\n",
       "H2O_cluster_allowed_cores:  4\n",
       "H2O_cluster_status:         locked, healthy\n",
       "H2O_connection_url:         http://localhost:54321\n",
       "H2O_connection_proxy:       {\"http\": null, \"https\": null}\n",
       "H2O_internal_security:      False\n",
       "H2O_API_Extensions:         Amazon S3, XGBoost, Algos, AutoML, Core V3, TargetEncoder, Core V4\n",
       "Python_version:             2.7.18 final\n",
       "--------------------------  ------------------------------------------------------------------"
      ]
     },
     "metadata": {},
     "output_type": "display_data"
    }
   ],
   "source": [
    "import h2o\n",
    "h2o.init()\n",
    "\n",
    "import pandas as pd"
   ]
  },
  {
   "cell_type": "code",
   "execution_count": null,
   "metadata": {
    "collapsed": true
   },
   "outputs": [],
   "source": [
    "from h2o.estimators.deeplearning import H2OAutoEncoderEstimator, H2ODeepLearningEstimator"
   ]
  },
  {
   "cell_type": "code",
   "execution_count": 3,
   "metadata": {
    "collapsed": false
   },
   "outputs": [
    {
     "name": "stdout",
     "output_type": "stream",
     "text": [
      "Parse progress: |█████████████████████████████████████████████████████████| 100%\n"
     ]
    }
   ],
   "source": [
    "## read file csv\n",
    "all_data = h2o.import_file(\"Output/6Nov20_combine.csv\", header=0)"
   ]
  },
  {
   "cell_type": "code",
   "execution_count": 4,
   "metadata": {
    "collapsed": false
   },
   "outputs": [
    {
     "data": {
      "text/html": [
       "<table>\n",
       "<thead>\n",
       "<tr><th>C1          </th><th style=\"text-align: right;\">          C2</th><th style=\"text-align: right;\">          C3</th><th style=\"text-align: right;\">          C4</th><th style=\"text-align: right;\">          C5</th><th style=\"text-align: right;\">          C6</th><th style=\"text-align: right;\">          C7</th><th style=\"text-align: right;\">          C8</th><th style=\"text-align: right;\">          C9</th><th style=\"text-align: right;\">         C10</th><th style=\"text-align: right;\">         C11</th><th style=\"text-align: right;\">         C12</th><th style=\"text-align: right;\">         C13</th><th style=\"text-align: right;\">         C14</th><th style=\"text-align: right;\">         C15</th><th style=\"text-align: right;\">         C16</th><th style=\"text-align: right;\">         C17</th><th style=\"text-align: right;\">         C18</th><th style=\"text-align: right;\">         C19</th><th style=\"text-align: right;\">         C20</th><th style=\"text-align: right;\">         C21</th><th style=\"text-align: right;\">        C22</th><th style=\"text-align: right;\">        C23</th><th style=\"text-align: right;\">        C24</th><th style=\"text-align: right;\">        C25</th><th style=\"text-align: right;\">        C26</th><th style=\"text-align: right;\">        C27</th><th style=\"text-align: right;\">        C28</th><th style=\"text-align: right;\">        C29</th><th style=\"text-align: right;\">        C30</th><th style=\"text-align: right;\">        C31</th><th style=\"text-align: right;\">        C32</th><th style=\"text-align: right;\">        C33</th><th style=\"text-align: right;\">        C34</th><th style=\"text-align: right;\">        C35</th><th style=\"text-align: right;\">        C36</th><th style=\"text-align: right;\">        C37</th><th style=\"text-align: right;\">        C38</th><th style=\"text-align: right;\">        C39</th><th style=\"text-align: right;\">        C40</th><th style=\"text-align: right;\">        C41</th><th style=\"text-align: right;\">        C42</th><th style=\"text-align: right;\">        C43</th><th style=\"text-align: right;\">        C44</th><th style=\"text-align: right;\">        C45</th><th style=\"text-align: right;\">        C46</th><th style=\"text-align: right;\">         C47</th><th style=\"text-align: right;\">         C48</th><th style=\"text-align: right;\">         C49</th><th style=\"text-align: right;\">         C50</th><th style=\"text-align: right;\">         C51</th><th style=\"text-align: right;\">         C52</th><th style=\"text-align: right;\">         C53</th><th style=\"text-align: right;\">         C54</th><th style=\"text-align: right;\">         C55</th><th style=\"text-align: right;\">         C56</th><th style=\"text-align: right;\">         C57</th><th style=\"text-align: right;\">         C58</th><th style=\"text-align: right;\">         C59</th><th style=\"text-align: right;\">         C60</th><th style=\"text-align: right;\">         C61</th><th style=\"text-align: right;\">         C62</th><th style=\"text-align: right;\">         C63</th><th style=\"text-align: right;\">         C64</th><th style=\"text-align: right;\">         C65</th><th style=\"text-align: right;\">         C66</th><th style=\"text-align: right;\">        C67</th><th style=\"text-align: right;\">        C68</th><th style=\"text-align: right;\">        C69</th><th style=\"text-align: right;\">        C70</th><th style=\"text-align: right;\">        C71</th><th style=\"text-align: right;\">        C72</th><th style=\"text-align: right;\">        C73</th><th style=\"text-align: right;\">        C74</th><th style=\"text-align: right;\">        C75</th><th style=\"text-align: right;\">        C76</th><th style=\"text-align: right;\">        C77</th><th style=\"text-align: right;\">        C78</th><th style=\"text-align: right;\">        C79</th><th style=\"text-align: right;\">        C80</th><th style=\"text-align: right;\">        C81</th><th style=\"text-align: right;\">        C82</th><th style=\"text-align: right;\">        C83</th><th style=\"text-align: right;\">        C84</th><th style=\"text-align: right;\">        C85</th><th style=\"text-align: right;\">        C86</th><th style=\"text-align: right;\">        C87</th><th style=\"text-align: right;\">        C88</th><th style=\"text-align: right;\">        C89</th><th style=\"text-align: right;\">        C90</th><th style=\"text-align: right;\">        C91</th><th style=\"text-align: right;\">        C92</th><th style=\"text-align: right;\">        C93</th><th style=\"text-align: right;\">        C94</th><th style=\"text-align: right;\">        C95</th><th style=\"text-align: right;\">        C96</th><th style=\"text-align: right;\">        C97</th><th style=\"text-align: right;\">        C98</th><th style=\"text-align: right;\">        C99</th><th style=\"text-align: right;\">       C100</th><th style=\"text-align: right;\">       C101</th><th style=\"text-align: right;\">       C102</th><th style=\"text-align: right;\">       C103</th><th style=\"text-align: right;\">       C104</th><th style=\"text-align: right;\">       C105</th><th style=\"text-align: right;\">       C106</th><th style=\"text-align: right;\">       C107</th><th style=\"text-align: right;\">       C108</th><th style=\"text-align: right;\">       C109</th><th style=\"text-align: right;\">       C110</th><th style=\"text-align: right;\">       C111</th><th style=\"text-align: right;\">       C112</th><th style=\"text-align: right;\">       C113</th><th style=\"text-align: right;\">       C114</th><th style=\"text-align: right;\">       C115</th><th style=\"text-align: right;\">       C116</th><th style=\"text-align: right;\">       C117</th><th style=\"text-align: right;\">       C118</th><th style=\"text-align: right;\">       C119</th><th style=\"text-align: right;\">       C120</th><th style=\"text-align: right;\">       C121</th><th style=\"text-align: right;\">       C122</th><th style=\"text-align: right;\">       C123</th><th style=\"text-align: right;\">       C124</th><th style=\"text-align: right;\">       C125</th><th style=\"text-align: right;\">       C126</th><th style=\"text-align: right;\">       C127</th><th style=\"text-align: right;\">       C128</th><th style=\"text-align: right;\">       C129</th><th style=\"text-align: right;\">       C130</th><th style=\"text-align: right;\">       C131</th><th style=\"text-align: right;\">       C132</th><th style=\"text-align: right;\">       C133</th><th style=\"text-align: right;\">       C134</th><th style=\"text-align: right;\">       C135</th><th style=\"text-align: right;\">       C136</th><th style=\"text-align: right;\">       C137</th><th style=\"text-align: right;\">       C138</th><th style=\"text-align: right;\">       C139</th><th style=\"text-align: right;\">       C140</th><th style=\"text-align: right;\">       C141</th><th style=\"text-align: right;\">       C142</th><th style=\"text-align: right;\">       C143</th><th style=\"text-align: right;\">       C144</th><th style=\"text-align: right;\">       C145</th><th style=\"text-align: right;\">       C146</th><th style=\"text-align: right;\">       C147</th><th style=\"text-align: right;\">       C148</th><th style=\"text-align: right;\">       C149</th><th style=\"text-align: right;\">       C150</th><th style=\"text-align: right;\">       C151</th><th style=\"text-align: right;\">       C152</th><th style=\"text-align: right;\">       C153</th><th style=\"text-align: right;\">       C154</th><th style=\"text-align: right;\">       C155</th><th style=\"text-align: right;\">       C156</th><th style=\"text-align: right;\">       C157</th><th style=\"text-align: right;\">       C158</th><th style=\"text-align: right;\">       C159</th><th style=\"text-align: right;\">       C160</th><th style=\"text-align: right;\">       C161</th><th style=\"text-align: right;\">       C162</th><th style=\"text-align: right;\">       C163</th><th style=\"text-align: right;\">       C164</th><th style=\"text-align: right;\">       C165</th><th style=\"text-align: right;\">       C166</th><th style=\"text-align: right;\">       C167</th><th style=\"text-align: right;\">       C168</th><th style=\"text-align: right;\">       C169</th><th style=\"text-align: right;\">       C170</th><th style=\"text-align: right;\">       C171</th><th style=\"text-align: right;\">       C172</th><th style=\"text-align: right;\">       C173</th><th style=\"text-align: right;\">       C174</th><th style=\"text-align: right;\">       C175</th><th style=\"text-align: right;\">       C176</th><th style=\"text-align: right;\">       C177</th><th style=\"text-align: right;\">       C178</th><th style=\"text-align: right;\">       C179</th><th style=\"text-align: right;\">       C180</th><th style=\"text-align: right;\">       C181</th><th style=\"text-align: right;\">       C182</th><th style=\"text-align: right;\">       C183</th><th style=\"text-align: right;\">       C184</th><th style=\"text-align: right;\">       C185</th><th style=\"text-align: right;\">       C186</th><th style=\"text-align: right;\">       C187</th><th style=\"text-align: right;\">       C188</th><th style=\"text-align: right;\">       C189</th><th style=\"text-align: right;\">       C190</th><th style=\"text-align: right;\">       C191</th><th style=\"text-align: right;\">       C192</th><th style=\"text-align: right;\">       C193</th><th style=\"text-align: right;\">       C194</th><th style=\"text-align: right;\">       C195</th><th style=\"text-align: right;\">       C196</th><th style=\"text-align: right;\">       C197</th><th style=\"text-align: right;\">       C198</th><th style=\"text-align: right;\">       C199</th><th style=\"text-align: right;\">       C200</th></tr>\n",
       "</thead>\n",
       "<tbody>\n",
       "<tr><td>S_lewini    </td><td style=\"text-align: right;\">-0.00151177 </td><td style=\"text-align: right;\">-0.00151177 </td><td style=\"text-align: right;\">-0.00141052 </td><td style=\"text-align: right;\">-0.00135871 </td><td style=\"text-align: right;\">-0.00135106 </td><td style=\"text-align: right;\">-0.00129843 </td><td style=\"text-align: right;\">-0.00125981 </td><td style=\"text-align: right;\">-0.00122584 </td><td style=\"text-align: right;\">-0.0012239  </td><td style=\"text-align: right;\">-0.0012394  </td><td style=\"text-align: right;\">-0.00124686 </td><td style=\"text-align: right;\">-0.00124076 </td><td style=\"text-align: right;\">-0.00122508 </td><td style=\"text-align: right;\">-0.00122322 </td><td style=\"text-align: right;\">-0.00123324 </td><td style=\"text-align: right;\">-0.00122072 </td><td style=\"text-align: right;\">-0.00123818 </td><td style=\"text-align: right;\">-0.00125122 </td><td style=\"text-align: right;\">-0.00126099 </td><td style=\"text-align: right;\">-0.00124965 </td><td style=\"text-align: right;\">-0.00124474</td><td style=\"text-align: right;\">-0.00125746</td><td style=\"text-align: right;\">-0.0012825 </td><td style=\"text-align: right;\">-0.00129247</td><td style=\"text-align: right;\">-0.00129248</td><td style=\"text-align: right;\">-0.0012973 </td><td style=\"text-align: right;\">-0.00130908</td><td style=\"text-align: right;\">-0.00131659</td><td style=\"text-align: right;\">-0.00132104</td><td style=\"text-align: right;\">-0.00133248</td><td style=\"text-align: right;\">-0.00134623</td><td style=\"text-align: right;\">-0.00135727</td><td style=\"text-align: right;\">-0.00136916</td><td style=\"text-align: right;\">-0.0013834 </td><td style=\"text-align: right;\">-0.00139646</td><td style=\"text-align: right;\">-0.0014044 </td><td style=\"text-align: right;\">-0.00140712</td><td style=\"text-align: right;\">-0.00141058</td><td style=\"text-align: right;\">-0.00141306</td><td style=\"text-align: right;\">-0.00141897</td><td style=\"text-align: right;\">-0.00142524</td><td style=\"text-align: right;\">-0.00142647</td><td style=\"text-align: right;\">-0.00142718</td><td style=\"text-align: right;\">-0.00142965</td><td style=\"text-align: right;\">-0.00143507</td><td style=\"text-align: right;\">-0.00144354 </td><td style=\"text-align: right;\">-0.00145173 </td><td style=\"text-align: right;\">-0.00145755 </td><td style=\"text-align: right;\">-0.0014645  </td><td style=\"text-align: right;\">-0.00147474 </td><td style=\"text-align: right;\">-0.00148828 </td><td style=\"text-align: right;\">-0.00150171 </td><td style=\"text-align: right;\">-0.00151425 </td><td style=\"text-align: right;\">-0.00152749 </td><td style=\"text-align: right;\">-0.00154009 </td><td style=\"text-align: right;\">-0.00155151 </td><td style=\"text-align: right;\">-0.00156128 </td><td style=\"text-align: right;\">-0.0015697  </td><td style=\"text-align: right;\">-0.00157594 </td><td style=\"text-align: right;\">-0.001581   </td><td style=\"text-align: right;\">-0.00158666 </td><td style=\"text-align: right;\">-0.00159443 </td><td style=\"text-align: right;\">-0.00160432 </td><td style=\"text-align: right;\">-0.00161562 </td><td style=\"text-align: right;\">-0.00162798 </td><td style=\"text-align: right;\">-0.00164058</td><td style=\"text-align: right;\">-0.00165082</td><td style=\"text-align: right;\">-0.00165801</td><td style=\"text-align: right;\">-0.00166454</td><td style=\"text-align: right;\">-0.00167637</td><td style=\"text-align: right;\">-0.00168838</td><td style=\"text-align: right;\">-0.00169474</td><td style=\"text-align: right;\">-0.00169768</td><td style=\"text-align: right;\">-0.00170263</td><td style=\"text-align: right;\">-0.00170463</td><td style=\"text-align: right;\">-0.00170816</td><td style=\"text-align: right;\">-0.00171523</td><td style=\"text-align: right;\">-0.00172688</td><td style=\"text-align: right;\">-0.00174242</td><td style=\"text-align: right;\">-0.00175585</td><td style=\"text-align: right;\">-0.00176556</td><td style=\"text-align: right;\">-0.00177351</td><td style=\"text-align: right;\">-0.00178093</td><td style=\"text-align: right;\">-0.00178764</td><td style=\"text-align: right;\">-0.00179364</td><td style=\"text-align: right;\">-0.00180271</td><td style=\"text-align: right;\">-0.00181272</td><td style=\"text-align: right;\">-0.00182314</td><td style=\"text-align: right;\">-0.00183691</td><td style=\"text-align: right;\">-0.00184974</td><td style=\"text-align: right;\">-0.00186328</td><td style=\"text-align: right;\">-0.00187312</td><td style=\"text-align: right;\">-0.00188018</td><td style=\"text-align: right;\">-0.00188795</td><td style=\"text-align: right;\">-0.00189713</td><td style=\"text-align: right;\">-0.00190738</td><td style=\"text-align: right;\">-0.00191868</td><td style=\"text-align: right;\">-0.00192928</td><td style=\"text-align: right;\">-0.00193722</td><td style=\"text-align: right;\">-0.00194411</td><td style=\"text-align: right;\">-0.00195047</td><td style=\"text-align: right;\">-0.001957  </td><td style=\"text-align: right;\">-0.00196513</td><td style=\"text-align: right;\">-0.00197531</td><td style=\"text-align: right;\">-0.0019852 </td><td style=\"text-align: right;\">-0.00199162</td><td style=\"text-align: right;\">-0.00199598</td><td style=\"text-align: right;\">-0.00199939</td><td style=\"text-align: right;\">-0.00200469</td><td style=\"text-align: right;\">-0.00201264</td><td style=\"text-align: right;\">-0.00202376</td><td style=\"text-align: right;\">-0.00203683</td><td style=\"text-align: right;\">-0.00204943</td><td style=\"text-align: right;\">-0.00206144</td><td style=\"text-align: right;\">-0.00207274</td><td style=\"text-align: right;\">-0.00208475</td><td style=\"text-align: right;\">-0.0020967 </td><td style=\"text-align: right;\">-0.00210653</td><td style=\"text-align: right;\">-0.00211584</td><td style=\"text-align: right;\">-0.00212573</td><td style=\"text-align: right;\">-0.00213638</td><td style=\"text-align: right;\">-0.00214792</td><td style=\"text-align: right;\">-0.00216046</td><td style=\"text-align: right;\">-0.00217406</td><td style=\"text-align: right;\">-0.00218642</td><td style=\"text-align: right;\">-0.00219749</td><td style=\"text-align: right;\">-0.00220714</td><td style=\"text-align: right;\">-0.00221874</td><td style=\"text-align: right;\">-0.00223228</td><td style=\"text-align: right;\">-0.00224429</td><td style=\"text-align: right;\">-0.00225359</td><td style=\"text-align: right;\">-0.00226166</td><td style=\"text-align: right;\">-0.0022719 </td><td style=\"text-align: right;\">-0.0022825 </td><td style=\"text-align: right;\">-0.00229186</td><td style=\"text-align: right;\">-0.0023001 </td><td style=\"text-align: right;\">-0.00230775</td><td style=\"text-align: right;\">-0.00231481</td><td style=\"text-align: right;\">-0.00232482</td><td style=\"text-align: right;\">-0.0023386 </td><td style=\"text-align: right;\">-0.00235485</td><td style=\"text-align: right;\">-0.0023708 </td><td style=\"text-align: right;\">-0.00238546</td><td style=\"text-align: right;\">-0.002398  </td><td style=\"text-align: right;\">-0.00240983</td><td style=\"text-align: right;\">-0.00242113</td><td style=\"text-align: right;\">-0.00243291</td><td style=\"text-align: right;\">-0.00244515</td><td style=\"text-align: right;\">-0.00245946</td><td style=\"text-align: right;\">-0.00247341</td><td style=\"text-align: right;\">-0.00248777</td><td style=\"text-align: right;\">-0.00250573</td><td style=\"text-align: right;\">-0.00252533</td><td style=\"text-align: right;\">-0.002545  </td><td style=\"text-align: right;\">-0.00256595</td><td style=\"text-align: right;\">-0.00258526</td><td style=\"text-align: right;\">-0.00259986</td><td style=\"text-align: right;\">-0.00260975</td><td style=\"text-align: right;\">-0.00262176</td><td style=\"text-align: right;\">-0.0026373 </td><td style=\"text-align: right;\">-0.00265402</td><td style=\"text-align: right;\">-0.00267104</td><td style=\"text-align: right;\">-0.00268622</td><td style=\"text-align: right;\">-0.00269894</td><td style=\"text-align: right;\">-0.00270954</td><td style=\"text-align: right;\">-0.0027199 </td><td style=\"text-align: right;\">-0.00273191</td><td style=\"text-align: right;\">-0.00274556</td><td style=\"text-align: right;\">-0.00275616</td><td style=\"text-align: right;\">-0.0027627 </td><td style=\"text-align: right;\">-0.00277176</td><td style=\"text-align: right;\">-0.00278377</td><td style=\"text-align: right;\">-0.00279872</td><td style=\"text-align: right;\">-0.00281409</td><td style=\"text-align: right;\">-0.00282998</td><td style=\"text-align: right;\">-0.00284505</td><td style=\"text-align: right;\">-0.00285859</td><td style=\"text-align: right;\">-0.0028706 </td><td style=\"text-align: right;\">-0.00288438</td><td style=\"text-align: right;\">-0.00289939</td><td style=\"text-align: right;\">-0.0029134 </td><td style=\"text-align: right;\">-0.00292765</td><td style=\"text-align: right;\">-0.00294072</td><td style=\"text-align: right;\">-0.00295237</td><td style=\"text-align: right;\">-0.00296338</td><td style=\"text-align: right;\">-0.00297527</td><td style=\"text-align: right;\">-0.0029907 </td><td style=\"text-align: right;\">-0.00300824</td><td style=\"text-align: right;\">-0.00302514</td><td style=\"text-align: right;\">-0.00303856</td><td style=\"text-align: right;\">-0.00305074</td><td style=\"text-align: right;\">-0.00306346</td><td style=\"text-align: right;\">-0.00307794</td><td style=\"text-align: right;\">-0.00309154</td><td style=\"text-align: right;\">-0.00310438</td><td style=\"text-align: right;\">-0.0031185 </td><td style=\"text-align: right;\">-0.00313334</td><td style=\"text-align: right;\">-0.00314965</td><td style=\"text-align: right;\">-0.00316554</td></tr>\n",
       "<tr><td>S_lewini    </td><td style=\"text-align: right;\">-0.00216169 </td><td style=\"text-align: right;\">-0.00204866 </td><td style=\"text-align: right;\">-0.00192622 </td><td style=\"text-align: right;\">-0.0018956  </td><td style=\"text-align: right;\">-0.00186087 </td><td style=\"text-align: right;\">-0.00178163 </td><td style=\"text-align: right;\">-0.00175432 </td><td style=\"text-align: right;\">-0.00174422 </td><td style=\"text-align: right;\">-0.00174578 </td><td style=\"text-align: right;\">-0.00175275 </td><td style=\"text-align: right;\">-0.00175078 </td><td style=\"text-align: right;\">-0.00174169 </td><td style=\"text-align: right;\">-0.00173842 </td><td style=\"text-align: right;\">-0.00174598 </td><td style=\"text-align: right;\">-0.0017676  </td><td style=\"text-align: right;\">-0.00177457 </td><td style=\"text-align: right;\">-0.00178934 </td><td style=\"text-align: right;\">-0.00181679 </td><td style=\"text-align: right;\">-0.00183202 </td><td style=\"text-align: right;\">-0.00183748 </td><td style=\"text-align: right;\">-0.0018385 </td><td style=\"text-align: right;\">-0.00183976</td><td style=\"text-align: right;\">-0.00184091</td><td style=\"text-align: right;\">-0.00185547</td><td style=\"text-align: right;\">-0.00185145</td><td style=\"text-align: right;\">-0.00185425</td><td style=\"text-align: right;\">-0.00186064</td><td style=\"text-align: right;\">-0.00186238</td><td style=\"text-align: right;\">-0.0018655 </td><td style=\"text-align: right;\">-0.00187011</td><td style=\"text-align: right;\">-0.00188666</td><td style=\"text-align: right;\">-0.00190259</td><td style=\"text-align: right;\">-0.00191599</td><td style=\"text-align: right;\">-0.001928  </td><td style=\"text-align: right;\">-0.00193751</td><td style=\"text-align: right;\">-0.00194754</td><td style=\"text-align: right;\">-0.00196193</td><td style=\"text-align: right;\">-0.00197344</td><td style=\"text-align: right;\">-0.00198341</td><td style=\"text-align: right;\">-0.00199402</td><td style=\"text-align: right;\">-0.00200522</td><td style=\"text-align: right;\">-0.00200557</td><td style=\"text-align: right;\">-0.0020091 </td><td style=\"text-align: right;\">-0.0020157 </td><td style=\"text-align: right;\">-0.00202217</td><td style=\"text-align: right;\">-0.00202818 </td><td style=\"text-align: right;\">-0.00203436 </td><td style=\"text-align: right;\">-0.00204125 </td><td style=\"text-align: right;\">-0.00204949 </td><td style=\"text-align: right;\">-0.00206091 </td><td style=\"text-align: right;\">-0.00207551 </td><td style=\"text-align: right;\">-0.00209176 </td><td style=\"text-align: right;\">-0.002105   </td><td style=\"text-align: right;\">-0.00211578 </td><td style=\"text-align: right;\">-0.00212737 </td><td style=\"text-align: right;\">-0.00213962 </td><td style=\"text-align: right;\">-0.00215104 </td><td style=\"text-align: right;\">-0.00216222 </td><td style=\"text-align: right;\">-0.00217259 </td><td style=\"text-align: right;\">-0.00218271 </td><td style=\"text-align: right;\">-0.00219343 </td><td style=\"text-align: right;\">-0.00220543 </td><td style=\"text-align: right;\">-0.00221874 </td><td style=\"text-align: right;\">-0.00223216 </td><td style=\"text-align: right;\">-0.00224664 </td><td style=\"text-align: right;\">-0.00226124</td><td style=\"text-align: right;\">-0.0022729 </td><td style=\"text-align: right;\">-0.00227985</td><td style=\"text-align: right;\">-0.00228679</td><td style=\"text-align: right;\">-0.00229927</td><td style=\"text-align: right;\">-0.00231217</td><td style=\"text-align: right;\">-0.00232082</td><td style=\"text-align: right;\">-0.00232883</td><td style=\"text-align: right;\">-0.00233271</td><td style=\"text-align: right;\">-0.00233636</td><td style=\"text-align: right;\">-0.00234284</td><td style=\"text-align: right;\">-0.00235173</td><td style=\"text-align: right;\">-0.00236338</td><td style=\"text-align: right;\">-0.00237504</td><td style=\"text-align: right;\">-0.00239023</td><td style=\"text-align: right;\">-0.00240453</td><td style=\"text-align: right;\">-0.00241848</td><td style=\"text-align: right;\">-0.00243332</td><td style=\"text-align: right;\">-0.00244815</td><td style=\"text-align: right;\">-0.0024637 </td><td style=\"text-align: right;\">-0.00247465</td><td style=\"text-align: right;\">-0.00248383</td><td style=\"text-align: right;\">-0.00249566</td><td style=\"text-align: right;\">-0.00251403</td><td style=\"text-align: right;\">-0.00253393</td><td style=\"text-align: right;\">-0.00254806</td><td style=\"text-align: right;\">-0.00256242</td><td style=\"text-align: right;\">-0.00257726</td><td style=\"text-align: right;\">-0.00259138</td><td style=\"text-align: right;\">-0.00260551</td><td style=\"text-align: right;\">-0.00261988</td><td style=\"text-align: right;\">-0.00263448</td><td style=\"text-align: right;\">-0.00264984</td><td style=\"text-align: right;\">-0.00266397</td><td style=\"text-align: right;\">-0.00267404</td><td style=\"text-align: right;\">-0.00268063</td><td style=\"text-align: right;\">-0.00268764</td><td style=\"text-align: right;\">-0.00269717</td><td style=\"text-align: right;\">-0.00270718</td><td style=\"text-align: right;\">-0.00271601</td><td style=\"text-align: right;\">-0.00272472</td><td style=\"text-align: right;\">-0.00273438</td><td style=\"text-align: right;\">-0.00274545</td><td style=\"text-align: right;\">-0.0027581 </td><td style=\"text-align: right;\">-0.00277188</td><td style=\"text-align: right;\">-0.00278518</td><td style=\"text-align: right;\">-0.00279713</td><td style=\"text-align: right;\">-0.00280791</td><td style=\"text-align: right;\">-0.00281915</td><td style=\"text-align: right;\">-0.00283222</td><td style=\"text-align: right;\">-0.00284588</td><td style=\"text-align: right;\">-0.00285983</td><td style=\"text-align: right;\">-0.0028739 </td><td style=\"text-align: right;\">-0.00288821</td><td style=\"text-align: right;\">-0.00290198</td><td style=\"text-align: right;\">-0.00291652</td><td style=\"text-align: right;\">-0.00293295</td><td style=\"text-align: right;\">-0.00294955</td><td style=\"text-align: right;\">-0.00296633</td><td style=\"text-align: right;\">-0.0029834 </td><td style=\"text-align: right;\">-0.00300023</td><td style=\"text-align: right;\">-0.00301719</td><td style=\"text-align: right;\">-0.00303361</td><td style=\"text-align: right;\">-0.0030498 </td><td style=\"text-align: right;\">-0.00306511</td><td style=\"text-align: right;\">-0.00307994</td><td style=\"text-align: right;\">-0.00309225</td><td style=\"text-align: right;\">-0.00310355</td><td style=\"text-align: right;\">-0.00311715</td><td style=\"text-align: right;\">-0.00313251</td><td style=\"text-align: right;\">-0.00314759</td><td style=\"text-align: right;\">-0.00316254</td><td style=\"text-align: right;\">-0.00317737</td><td style=\"text-align: right;\">-0.00319333</td><td style=\"text-align: right;\">-0.00321099</td><td style=\"text-align: right;\">-0.003229  </td><td style=\"text-align: right;\">-0.00324578</td><td style=\"text-align: right;\">-0.00326056</td><td style=\"text-align: right;\">-0.00327433</td><td style=\"text-align: right;\">-0.00328652</td><td style=\"text-align: right;\">-0.00329841</td><td style=\"text-align: right;\">-0.0033136 </td><td style=\"text-align: right;\">-0.00333208</td><td style=\"text-align: right;\">-0.00335269</td><td style=\"text-align: right;\">-0.0033707 </td><td style=\"text-align: right;\">-0.00338554</td><td style=\"text-align: right;\">-0.00340255</td><td style=\"text-align: right;\">-0.00342198</td><td style=\"text-align: right;\">-0.00344205</td><td style=\"text-align: right;\">-0.00346383</td><td style=\"text-align: right;\">-0.00348397</td><td style=\"text-align: right;\">-0.00350133</td><td style=\"text-align: right;\">-0.00351593</td><td style=\"text-align: right;\">-0.00353094</td><td style=\"text-align: right;\">-0.00354684</td><td style=\"text-align: right;\">-0.00356132</td><td style=\"text-align: right;\">-0.00357598</td><td style=\"text-align: right;\">-0.00359152</td><td style=\"text-align: right;\">-0.00360795</td><td style=\"text-align: right;\">-0.00362525</td><td style=\"text-align: right;\">-0.00364456</td><td style=\"text-align: right;\">-0.00366481</td><td style=\"text-align: right;\">-0.00368601</td><td style=\"text-align: right;\">-0.00370349</td><td style=\"text-align: right;\">-0.00371762</td><td style=\"text-align: right;\">-0.0037334 </td><td style=\"text-align: right;\">-0.00375118</td><td style=\"text-align: right;\">-0.00377096</td><td style=\"text-align: right;\">-0.00379162</td><td style=\"text-align: right;\">-0.00381387</td><td style=\"text-align: right;\">-0.00383577</td><td style=\"text-align: right;\">-0.00385602</td><td style=\"text-align: right;\">-0.00387463</td><td style=\"text-align: right;\">-0.00389511</td><td style=\"text-align: right;\">-0.00391825</td><td style=\"text-align: right;\">-0.00394262</td><td style=\"text-align: right;\">-0.00396746</td><td style=\"text-align: right;\">-0.00399066</td><td style=\"text-align: right;\">-0.00401362</td><td style=\"text-align: right;\">-0.00403928</td><td style=\"text-align: right;\">-0.0040666 </td><td style=\"text-align: right;\">-0.00409415</td><td style=\"text-align: right;\">-0.00412088</td><td style=\"text-align: right;\">-0.0041466 </td><td style=\"text-align: right;\">-0.00417115</td><td style=\"text-align: right;\">-0.00419576</td><td style=\"text-align: right;\">-0.00422107</td><td style=\"text-align: right;\">-0.00424798</td><td style=\"text-align: right;\">-0.004275  </td><td style=\"text-align: right;\">-0.00430049</td><td style=\"text-align: right;\">-0.00432569</td><td style=\"text-align: right;\">-0.00435112</td><td style=\"text-align: right;\">-0.00437708</td><td style=\"text-align: right;\">-0.00440286</td></tr>\n",
       "<tr><td>S_lewini    </td><td style=\"text-align: right;\">-0.00194976 </td><td style=\"text-align: right;\">-0.00180848 </td><td style=\"text-align: right;\">-0.00157771 </td><td style=\"text-align: right;\">-0.00147174 </td><td style=\"text-align: right;\">-0.00142465 </td><td style=\"text-align: right;\">-0.00141005 </td><td style=\"text-align: right;\">-0.00141523 </td><td style=\"text-align: right;\">-0.00139403 </td><td style=\"text-align: right;\">-0.00138638 </td><td style=\"text-align: right;\">-0.00138697 </td><td style=\"text-align: right;\">-0.00139686 </td><td style=\"text-align: right;\">-0.00138783 </td><td style=\"text-align: right;\">-0.00141111 </td><td style=\"text-align: right;\">-0.00143515 </td><td style=\"text-align: right;\">-0.00145122 </td><td style=\"text-align: right;\">-0.0014708  </td><td style=\"text-align: right;\">-0.00147925 </td><td style=\"text-align: right;\">-0.00147396 </td><td style=\"text-align: right;\">-0.00147645 </td><td style=\"text-align: right;\">-0.0014917  </td><td style=\"text-align: right;\">-0.0015093 </td><td style=\"text-align: right;\">-0.00150942</td><td style=\"text-align: right;\">-0.00150953</td><td style=\"text-align: right;\">-0.00152621</td><td style=\"text-align: right;\">-0.00154857</td><td style=\"text-align: right;\">-0.00156405</td><td style=\"text-align: right;\">-0.00157182</td><td style=\"text-align: right;\">-0.00158006</td><td style=\"text-align: right;\">-0.00158166</td><td style=\"text-align: right;\">-0.00158607</td><td style=\"text-align: right;\">-0.0016029 </td><td style=\"text-align: right;\">-0.00161751</td><td style=\"text-align: right;\">-0.00163165</td><td style=\"text-align: right;\">-0.00164485</td><td style=\"text-align: right;\">-0.00165576</td><td style=\"text-align: right;\">-0.00167062</td><td style=\"text-align: right;\">-0.00169041</td><td style=\"text-align: right;\">-0.00170786</td><td style=\"text-align: right;\">-0.00172277</td><td style=\"text-align: right;\">-0.00173717</td><td style=\"text-align: right;\">-0.00174931</td><td style=\"text-align: right;\">-0.00174737</td><td style=\"text-align: right;\">-0.00174843</td><td style=\"text-align: right;\">-0.00175402</td><td style=\"text-align: right;\">-0.00176132</td><td style=\"text-align: right;\">-0.00177027 </td><td style=\"text-align: right;\">-0.00178022 </td><td style=\"text-align: right;\">-0.00179046 </td><td style=\"text-align: right;\">-0.00179965 </td><td style=\"text-align: right;\">-0.00180742 </td><td style=\"text-align: right;\">-0.00181377 </td><td style=\"text-align: right;\">-0.00182208 </td><td style=\"text-align: right;\">-0.00183161 </td><td style=\"text-align: right;\">-0.00184062 </td><td style=\"text-align: right;\">-0.00185169 </td><td style=\"text-align: right;\">-0.0018657  </td><td style=\"text-align: right;\">-0.00188006 </td><td style=\"text-align: right;\">-0.00189607 </td><td style=\"text-align: right;\">-0.00191038 </td><td style=\"text-align: right;\">-0.00192168 </td><td style=\"text-align: right;\">-0.00193169 </td><td style=\"text-align: right;\">-0.00194335 </td><td style=\"text-align: right;\">-0.00195665 </td><td style=\"text-align: right;\">-0.00196795 </td><td style=\"text-align: right;\">-0.00197608 </td><td style=\"text-align: right;\">-0.00198408</td><td style=\"text-align: right;\">-0.00199339</td><td style=\"text-align: right;\">-0.00200434</td><td style=\"text-align: right;\">-0.00201499</td><td style=\"text-align: right;\">-0.00202306</td><td style=\"text-align: right;\">-0.00203136</td><td style=\"text-align: right;\">-0.00204248</td><td style=\"text-align: right;\">-0.00205567</td><td style=\"text-align: right;\">-0.00207174</td><td style=\"text-align: right;\">-0.00208717</td><td style=\"text-align: right;\">-0.00210206</td><td style=\"text-align: right;\">-0.00211507</td><td style=\"text-align: right;\">-0.00212543</td><td style=\"text-align: right;\">-0.00213438</td><td style=\"text-align: right;\">-0.00214191</td><td style=\"text-align: right;\">-0.0021541 </td><td style=\"text-align: right;\">-0.00216982</td><td style=\"text-align: right;\">-0.00218642</td><td style=\"text-align: right;\">-0.00220337</td><td style=\"text-align: right;\">-0.0022168 </td><td style=\"text-align: right;\">-0.00222834</td><td style=\"text-align: right;\">-0.00223834</td><td style=\"text-align: right;\">-0.00224823</td><td style=\"text-align: right;\">-0.00225706</td><td style=\"text-align: right;\">-0.00226566</td><td style=\"text-align: right;\">-0.00227873</td><td style=\"text-align: right;\">-0.00229345</td><td style=\"text-align: right;\">-0.00230793</td><td style=\"text-align: right;\">-0.00232011</td><td style=\"text-align: right;\">-0.00233142</td><td style=\"text-align: right;\">-0.00234507</td><td style=\"text-align: right;\">-0.00236109</td><td style=\"text-align: right;\">-0.00237733</td><td style=\"text-align: right;\">-0.00239129</td><td style=\"text-align: right;\">-0.00240118</td><td style=\"text-align: right;\">-0.00240895</td><td style=\"text-align: right;\">-0.00241866</td><td style=\"text-align: right;\">-0.00243067</td><td style=\"text-align: right;\">-0.00244144</td><td style=\"text-align: right;\">-0.00244992</td><td style=\"text-align: right;\">-0.0024584 </td><td style=\"text-align: right;\">-0.00246852</td><td style=\"text-align: right;\">-0.00248065</td><td style=\"text-align: right;\">-0.00249337</td><td style=\"text-align: right;\">-0.0025052 </td><td style=\"text-align: right;\">-0.00251615</td><td style=\"text-align: right;\">-0.00252569</td><td style=\"text-align: right;\">-0.00253393</td><td style=\"text-align: right;\">-0.0025427 </td><td style=\"text-align: right;\">-0.00255365</td><td style=\"text-align: right;\">-0.00256501</td><td style=\"text-align: right;\">-0.00257637</td><td style=\"text-align: right;\">-0.00258738</td><td style=\"text-align: right;\">-0.00259927</td><td style=\"text-align: right;\">-0.00261164</td><td style=\"text-align: right;\">-0.00262682</td><td style=\"text-align: right;\">-0.00264631</td><td style=\"text-align: right;\">-0.00266803</td><td style=\"text-align: right;\">-0.00268993</td><td style=\"text-align: right;\">-0.00271048</td><td style=\"text-align: right;\">-0.00273061</td><td style=\"text-align: right;\">-0.00275039</td><td style=\"text-align: right;\">-0.00277047</td><td style=\"text-align: right;\">-0.00279048</td><td style=\"text-align: right;\">-0.00281179</td><td style=\"text-align: right;\">-0.00283463</td><td style=\"text-align: right;\">-0.00285559</td><td style=\"text-align: right;\">-0.00287131</td><td style=\"text-align: right;\">-0.00288844</td><td style=\"text-align: right;\">-0.00290875</td><td style=\"text-align: right;\">-0.002927  </td><td style=\"text-align: right;\">-0.00294231</td><td style=\"text-align: right;\">-0.00295467</td><td style=\"text-align: right;\">-0.00296739</td><td style=\"text-align: right;\">-0.00298381</td><td style=\"text-align: right;\">-0.00300253</td><td style=\"text-align: right;\">-0.00302131</td><td style=\"text-align: right;\">-0.00303962</td><td style=\"text-align: right;\">-0.00305763</td><td style=\"text-align: right;\">-0.00307529</td><td style=\"text-align: right;\">-0.00309213</td><td style=\"text-align: right;\">-0.00310791</td><td style=\"text-align: right;\">-0.00312262</td><td style=\"text-align: right;\">-0.0031374 </td><td style=\"text-align: right;\">-0.00315418</td><td style=\"text-align: right;\">-0.00317231</td><td style=\"text-align: right;\">-0.0031885 </td><td style=\"text-align: right;\">-0.00320228</td><td style=\"text-align: right;\">-0.00321611</td><td style=\"text-align: right;\">-0.00323124</td><td style=\"text-align: right;\">-0.00324666</td><td style=\"text-align: right;\">-0.00326332</td><td style=\"text-align: right;\">-0.00328122</td><td style=\"text-align: right;\">-0.00330006</td><td style=\"text-align: right;\">-0.0033189 </td><td style=\"text-align: right;\">-0.00333679</td><td style=\"text-align: right;\">-0.0033531 </td><td style=\"text-align: right;\">-0.00336935</td><td style=\"text-align: right;\">-0.00338807</td><td style=\"text-align: right;\">-0.00340891</td><td style=\"text-align: right;\">-0.00343045</td><td style=\"text-align: right;\">-0.00345106</td><td style=\"text-align: right;\">-0.00347072</td><td style=\"text-align: right;\">-0.00348821</td><td style=\"text-align: right;\">-0.00350445</td><td style=\"text-align: right;\">-0.00352047</td><td style=\"text-align: right;\">-0.00353695</td><td style=\"text-align: right;\">-0.0035539 </td><td style=\"text-align: right;\">-0.00357439</td><td style=\"text-align: right;\">-0.00359929</td><td style=\"text-align: right;\">-0.00362355</td><td style=\"text-align: right;\">-0.00364533</td><td style=\"text-align: right;\">-0.00366464</td><td style=\"text-align: right;\">-0.00368583</td><td style=\"text-align: right;\">-0.00370967</td><td style=\"text-align: right;\">-0.00373346</td><td style=\"text-align: right;\">-0.0037563 </td><td style=\"text-align: right;\">-0.00377784</td><td style=\"text-align: right;\">-0.00379957</td><td style=\"text-align: right;\">-0.00382429</td><td style=\"text-align: right;\">-0.00385067</td><td style=\"text-align: right;\">-0.00387657</td><td style=\"text-align: right;\">-0.00390035</td><td style=\"text-align: right;\">-0.00392213</td><td style=\"text-align: right;\">-0.00394333</td><td style=\"text-align: right;\">-0.00396587</td><td style=\"text-align: right;\">-0.00398872</td><td style=\"text-align: right;\">-0.00401238</td><td style=\"text-align: right;\">-0.00403534</td><td style=\"text-align: right;\">-0.00405577</td><td style=\"text-align: right;\">-0.00407614</td><td style=\"text-align: right;\">-0.00409792</td><td style=\"text-align: right;\">-0.00412153</td><td style=\"text-align: right;\">-0.00414519</td></tr>\n",
       "<tr><td>S_lewini    </td><td style=\"text-align: right;\">-0.00186499 </td><td style=\"text-align: right;\">-0.00191444 </td><td style=\"text-align: right;\">-0.00190149 </td><td style=\"text-align: right;\">-0.00187441 </td><td style=\"text-align: right;\">-0.00192445 </td><td style=\"text-align: right;\">-0.0019314  </td><td style=\"text-align: right;\">-0.0019321  </td><td style=\"text-align: right;\">-0.00191848 </td><td style=\"text-align: right;\">-0.00191356 </td><td style=\"text-align: right;\">-0.00190973 </td><td style=\"text-align: right;\">-0.00189749 </td><td style=\"text-align: right;\">-0.00189453 </td><td style=\"text-align: right;\">-0.00189443 </td><td style=\"text-align: right;\">-0.00189923 </td><td style=\"text-align: right;\">-0.00190485 </td><td style=\"text-align: right;\">-0.00189749 </td><td style=\"text-align: right;\">-0.00190267 </td><td style=\"text-align: right;\">-0.00190738 </td><td style=\"text-align: right;\">-0.0019168  </td><td style=\"text-align: right;\">-0.00192151 </td><td style=\"text-align: right;\">-0.00192469</td><td style=\"text-align: right;\">-0.00193227</td><td style=\"text-align: right;\">-0.00193885</td><td style=\"text-align: right;\">-0.00194669</td><td style=\"text-align: right;\">-0.00195506</td><td style=\"text-align: right;\">-0.00196446</td><td style=\"text-align: right;\">-0.00198101</td><td style=\"text-align: right;\">-0.00199764</td><td style=\"text-align: right;\">-0.00200905</td><td style=\"text-align: right;\">-0.00201286</td><td style=\"text-align: right;\">-0.00202512</td><td style=\"text-align: right;\">-0.00203727</td><td style=\"text-align: right;\">-0.00205109</td><td style=\"text-align: right;\">-0.00206815</td><td style=\"text-align: right;\">-0.00208253</td><td style=\"text-align: right;\">-0.00209953</td><td style=\"text-align: right;\">-0.00211041</td><td style=\"text-align: right;\">-0.00211931</td><td style=\"text-align: right;\">-0.002134  </td><td style=\"text-align: right;\">-0.00215234</td><td style=\"text-align: right;\">-0.00216487</td><td style=\"text-align: right;\">-0.0021737 </td><td style=\"text-align: right;\">-0.00217953</td><td style=\"text-align: right;\">-0.00218748</td><td style=\"text-align: right;\">-0.00219961</td><td style=\"text-align: right;\">-0.00221209 </td><td style=\"text-align: right;\">-0.00222333 </td><td style=\"text-align: right;\">-0.00223004 </td><td style=\"text-align: right;\">-0.00223628 </td><td style=\"text-align: right;\">-0.0022457  </td><td style=\"text-align: right;\">-0.0022583  </td><td style=\"text-align: right;\">-0.00227084 </td><td style=\"text-align: right;\">-0.00228285 </td><td style=\"text-align: right;\">-0.00229503 </td><td style=\"text-align: right;\">-0.00230598 </td><td style=\"text-align: right;\">-0.00231799 </td><td style=\"text-align: right;\">-0.00233165 </td><td style=\"text-align: right;\">-0.00234696 </td><td style=\"text-align: right;\">-0.00236203 </td><td style=\"text-align: right;\">-0.00237786 </td><td style=\"text-align: right;\">-0.00239376 </td><td style=\"text-align: right;\">-0.00241036 </td><td style=\"text-align: right;\">-0.00242767 </td><td style=\"text-align: right;\">-0.0024448  </td><td style=\"text-align: right;\">-0.00246246 </td><td style=\"text-align: right;\">-0.00248077</td><td style=\"text-align: right;\">-0.00249796</td><td style=\"text-align: right;\">-0.00251385</td><td style=\"text-align: right;\">-0.00253081</td><td style=\"text-align: right;\">-0.00255094</td><td style=\"text-align: right;\">-0.00257319</td><td style=\"text-align: right;\">-0.00259333</td><td style=\"text-align: right;\">-0.00261005</td><td style=\"text-align: right;\">-0.00262753</td><td style=\"text-align: right;\">-0.0026426 </td><td style=\"text-align: right;\">-0.00265744</td><td style=\"text-align: right;\">-0.00267404</td><td style=\"text-align: right;\">-0.00269346</td><td style=\"text-align: right;\">-0.00271383</td><td style=\"text-align: right;\">-0.00273691</td><td style=\"text-align: right;\">-0.0027551 </td><td style=\"text-align: right;\">-0.00277117</td><td style=\"text-align: right;\">-0.0027883 </td><td style=\"text-align: right;\">-0.00280543</td><td style=\"text-align: right;\">-0.00282557</td><td style=\"text-align: right;\">-0.002845  </td><td style=\"text-align: right;\">-0.00286372</td><td style=\"text-align: right;\">-0.00288244</td><td style=\"text-align: right;\">-0.0029031 </td><td style=\"text-align: right;\">-0.00292429</td><td style=\"text-align: right;\">-0.00294549</td><td style=\"text-align: right;\">-0.00296226</td><td style=\"text-align: right;\">-0.00297569</td><td style=\"text-align: right;\">-0.00299034</td><td style=\"text-align: right;\">-0.00300695</td><td style=\"text-align: right;\">-0.00302461</td><td style=\"text-align: right;\">-0.00304333</td><td style=\"text-align: right;\">-0.00306381</td><td style=\"text-align: right;\">-0.00308624</td><td style=\"text-align: right;\">-0.00310655</td><td style=\"text-align: right;\">-0.00312321</td><td style=\"text-align: right;\">-0.00313958</td><td style=\"text-align: right;\">-0.00315901</td><td style=\"text-align: right;\">-0.00317896</td><td style=\"text-align: right;\">-0.00319698</td><td style=\"text-align: right;\">-0.00321358</td><td style=\"text-align: right;\">-0.00323053</td><td style=\"text-align: right;\">-0.00324961</td><td style=\"text-align: right;\">-0.00326956</td><td style=\"text-align: right;\">-0.00328828</td><td style=\"text-align: right;\">-0.00330647</td><td style=\"text-align: right;\">-0.0033259 </td><td style=\"text-align: right;\">-0.00334698</td><td style=\"text-align: right;\">-0.00336882</td><td style=\"text-align: right;\">-0.00339107</td><td style=\"text-align: right;\">-0.00341138</td><td style=\"text-align: right;\">-0.00342833</td><td style=\"text-align: right;\">-0.00344223</td><td style=\"text-align: right;\">-0.00345706</td><td style=\"text-align: right;\">-0.00347543</td><td style=\"text-align: right;\">-0.00349656</td><td style=\"text-align: right;\">-0.00351999</td><td style=\"text-align: right;\">-0.00354649</td><td style=\"text-align: right;\">-0.00357245</td><td style=\"text-align: right;\">-0.00359276</td><td style=\"text-align: right;\">-0.00361171</td><td style=\"text-align: right;\">-0.00363314</td><td style=\"text-align: right;\">-0.00365863</td><td style=\"text-align: right;\">-0.00368601</td><td style=\"text-align: right;\">-0.0037112 </td><td style=\"text-align: right;\">-0.00373346</td><td style=\"text-align: right;\">-0.00375418</td><td style=\"text-align: right;\">-0.00377661</td><td style=\"text-align: right;\">-0.00380116</td><td style=\"text-align: right;\">-0.00382712</td><td style=\"text-align: right;\">-0.00385208</td><td style=\"text-align: right;\">-0.00387374</td><td style=\"text-align: right;\">-0.00389211</td><td style=\"text-align: right;\">-0.00391165</td><td style=\"text-align: right;\">-0.00393426</td><td style=\"text-align: right;\">-0.00395722</td><td style=\"text-align: right;\">-0.003979  </td><td style=\"text-align: right;\">-0.00399737</td><td style=\"text-align: right;\">-0.00401609</td><td style=\"text-align: right;\">-0.00403605</td><td style=\"text-align: right;\">-0.00405571</td><td style=\"text-align: right;\">-0.0040762 </td><td style=\"text-align: right;\">-0.00409751</td><td style=\"text-align: right;\">-0.00411764</td><td style=\"text-align: right;\">-0.00413424</td><td style=\"text-align: right;\">-0.00414967</td><td style=\"text-align: right;\">-0.00416656</td><td style=\"text-align: right;\">-0.00418652</td><td style=\"text-align: right;\">-0.00420918</td><td style=\"text-align: right;\">-0.0042335 </td><td style=\"text-align: right;\">-0.00425857</td><td style=\"text-align: right;\">-0.00428118</td><td style=\"text-align: right;\">-0.00430131</td><td style=\"text-align: right;\">-0.00432015</td><td style=\"text-align: right;\">-0.00433993</td><td style=\"text-align: right;\">-0.00436077</td><td style=\"text-align: right;\">-0.00438485</td><td style=\"text-align: right;\">-0.00441134</td><td style=\"text-align: right;\">-0.00443748</td><td style=\"text-align: right;\">-0.00446256</td><td style=\"text-align: right;\">-0.00448728</td><td style=\"text-align: right;\">-0.00451201</td><td style=\"text-align: right;\">-0.00453673</td><td style=\"text-align: right;\">-0.00456005</td><td style=\"text-align: right;\">-0.00458142</td><td style=\"text-align: right;\">-0.00460437</td><td style=\"text-align: right;\">-0.00463016</td><td style=\"text-align: right;\">-0.00465877</td><td style=\"text-align: right;\">-0.00468685</td><td style=\"text-align: right;\">-0.00471246</td><td style=\"text-align: right;\">-0.00473695</td><td style=\"text-align: right;\">-0.00476191</td><td style=\"text-align: right;\">-0.00478734</td><td style=\"text-align: right;\">-0.0048133 </td><td style=\"text-align: right;\">-0.00484015</td><td style=\"text-align: right;\">-0.00486799</td><td style=\"text-align: right;\">-0.00489554</td><td style=\"text-align: right;\">-0.00491945</td><td style=\"text-align: right;\">-0.00494258</td><td style=\"text-align: right;\">-0.00496837</td><td style=\"text-align: right;\">-0.00499486</td><td style=\"text-align: right;\">-0.005021  </td><td style=\"text-align: right;\">-0.00504501</td><td style=\"text-align: right;\">-0.0050685 </td><td style=\"text-align: right;\">-0.0050927 </td><td style=\"text-align: right;\">-0.00511848</td><td style=\"text-align: right;\">-0.00514497</td><td style=\"text-align: right;\">-0.00517041</td><td style=\"text-align: right;\">-0.00519549</td><td style=\"text-align: right;\">-0.00522109</td><td style=\"text-align: right;\">-0.00524794</td><td style=\"text-align: right;\">-0.00527655</td><td style=\"text-align: right;\">-0.00530834</td><td style=\"text-align: right;\">-0.00534048</td></tr>\n",
       "<tr><td>S_lewini    </td><td style=\"text-align: right;\">-0.00176609 </td><td style=\"text-align: right;\">-0.00178022 </td><td style=\"text-align: right;\">-0.00184144 </td><td style=\"text-align: right;\">-0.00190031 </td><td style=\"text-align: right;\">-0.00191385 </td><td style=\"text-align: right;\">-0.00188053 </td><td style=\"text-align: right;\">-0.00188736 </td><td style=\"text-align: right;\">-0.00188248 </td><td style=\"text-align: right;\">-0.00188265 </td><td style=\"text-align: right;\">-0.00189011 </td><td style=\"text-align: right;\">-0.00188312 </td><td style=\"text-align: right;\">-0.00188875 </td><td style=\"text-align: right;\">-0.00189855 </td><td style=\"text-align: right;\">-0.00190629 </td><td style=\"text-align: right;\">-0.00190233 </td><td style=\"text-align: right;\">-0.00191538 </td><td style=\"text-align: right;\">-0.00193696 </td><td style=\"text-align: right;\">-0.001956   </td><td style=\"text-align: right;\">-0.00197606 </td><td style=\"text-align: right;\">-0.00198509 </td><td style=\"text-align: right;\">-0.00199392</td><td style=\"text-align: right;\">-0.00199989</td><td style=\"text-align: right;\">-0.00201174</td><td style=\"text-align: right;\">-0.00202809</td><td style=\"text-align: right;\">-0.00204101</td><td style=\"text-align: right;\">-0.0020594 </td><td style=\"text-align: right;\">-0.00207448</td><td style=\"text-align: right;\">-0.00210152</td><td style=\"text-align: right;\">-0.00212587</td><td style=\"text-align: right;\">-0.00214489</td><td style=\"text-align: right;\">-0.00216405</td><td style=\"text-align: right;\">-0.00218813</td><td style=\"text-align: right;\">-0.00221092</td><td style=\"text-align: right;\">-0.00223377</td><td style=\"text-align: right;\">-0.00225353</td><td style=\"text-align: right;\">-0.00227412</td><td style=\"text-align: right;\">-0.00229114</td><td style=\"text-align: right;\">-0.00230661</td><td style=\"text-align: right;\">-0.00232566</td><td style=\"text-align: right;\">-0.00234984</td><td style=\"text-align: right;\">-0.00237239</td><td style=\"text-align: right;\">-0.00238987</td><td style=\"text-align: right;\">-0.00240577</td><td style=\"text-align: right;\">-0.00242266</td><td style=\"text-align: right;\">-0.00243974</td><td style=\"text-align: right;\">-0.00245469 </td><td style=\"text-align: right;\">-0.00246935 </td><td style=\"text-align: right;\">-0.00248507 </td><td style=\"text-align: right;\">-0.00250202 </td><td style=\"text-align: right;\">-0.00252157 </td><td style=\"text-align: right;\">-0.0025437  </td><td style=\"text-align: right;\">-0.00256613 </td><td style=\"text-align: right;\">-0.00258556 </td><td style=\"text-align: right;\">-0.00260269 </td><td style=\"text-align: right;\">-0.00261994 </td><td style=\"text-align: right;\">-0.00263936 </td><td style=\"text-align: right;\">-0.00265985 </td><td style=\"text-align: right;\">-0.00268146 </td><td style=\"text-align: right;\">-0.00270177 </td><td style=\"text-align: right;\">-0.00272225 </td><td style=\"text-align: right;\">-0.00274333 </td><td style=\"text-align: right;\">-0.0027654  </td><td style=\"text-align: right;\">-0.00278848 </td><td style=\"text-align: right;\">-0.00281179 </td><td style=\"text-align: right;\">-0.00283546 </td><td style=\"text-align: right;\">-0.00285965</td><td style=\"text-align: right;\">-0.00288355</td><td style=\"text-align: right;\">-0.00290804</td><td style=\"text-align: right;\">-0.00293465</td><td style=\"text-align: right;\">-0.0029605 </td><td style=\"text-align: right;\">-0.00298346</td><td style=\"text-align: right;\">-0.00300394</td><td style=\"text-align: right;\">-0.00302408</td><td style=\"text-align: right;\">-0.00304492</td><td style=\"text-align: right;\">-0.00306505</td><td style=\"text-align: right;\">-0.00308719</td><td style=\"text-align: right;\">-0.00311062</td><td style=\"text-align: right;\">-0.00313675</td><td style=\"text-align: right;\">-0.0031643 </td><td style=\"text-align: right;\">-0.0031915 </td><td style=\"text-align: right;\">-0.00321764</td><td style=\"text-align: right;\">-0.00324572</td><td style=\"text-align: right;\">-0.00327574</td><td style=\"text-align: right;\">-0.00330612</td><td style=\"text-align: right;\">-0.00333579</td><td style=\"text-align: right;\">-0.00336417</td><td style=\"text-align: right;\">-0.00339125</td><td style=\"text-align: right;\">-0.00341791</td><td style=\"text-align: right;\">-0.00344547</td><td style=\"text-align: right;\">-0.00347137</td><td style=\"text-align: right;\">-0.0034968 </td><td style=\"text-align: right;\">-0.00352317</td><td style=\"text-align: right;\">-0.00354984</td><td style=\"text-align: right;\">-0.00357386</td><td style=\"text-align: right;\">-0.00359576</td><td style=\"text-align: right;\">-0.00361825</td><td style=\"text-align: right;\">-0.00364133</td><td style=\"text-align: right;\">-0.00366446</td><td style=\"text-align: right;\">-0.0036883 </td><td style=\"text-align: right;\">-0.00371179</td><td style=\"text-align: right;\">-0.00373599</td><td style=\"text-align: right;\">-0.00376001</td><td style=\"text-align: right;\">-0.00378438</td><td style=\"text-align: right;\">-0.00380987</td><td style=\"text-align: right;\">-0.0038353 </td><td style=\"text-align: right;\">-0.0038595 </td><td style=\"text-align: right;\">-0.00388387</td><td style=\"text-align: right;\">-0.00390977</td><td style=\"text-align: right;\">-0.00393573</td><td style=\"text-align: right;\">-0.00396046</td><td style=\"text-align: right;\">-0.00398618</td><td style=\"text-align: right;\">-0.00401397</td><td style=\"text-align: right;\">-0.00404458</td><td style=\"text-align: right;\">-0.00407625</td><td style=\"text-align: right;\">-0.0041084 </td><td style=\"text-align: right;\">-0.00413925</td><td style=\"text-align: right;\">-0.00416744</td><td style=\"text-align: right;\">-0.00419211</td><td style=\"text-align: right;\">-0.00421642</td><td style=\"text-align: right;\">-0.00424221</td><td style=\"text-align: right;\">-0.00426935</td><td style=\"text-align: right;\">-0.00429831</td><td style=\"text-align: right;\">-0.00432992</td><td style=\"text-align: right;\">-0.00436101</td><td style=\"text-align: right;\">-0.00438897</td><td style=\"text-align: right;\">-0.00441735</td><td style=\"text-align: right;\">-0.00444843</td><td style=\"text-align: right;\">-0.00448039</td><td style=\"text-align: right;\">-0.00451136</td><td style=\"text-align: right;\">-0.00454115</td><td style=\"text-align: right;\">-0.00457129</td><td style=\"text-align: right;\">-0.00460049</td><td style=\"text-align: right;\">-0.00463104</td><td style=\"text-align: right;\">-0.00466354</td><td style=\"text-align: right;\">-0.00469727</td><td style=\"text-align: right;\">-0.00473024</td><td style=\"text-align: right;\">-0.00476038</td><td style=\"text-align: right;\">-0.00478769</td><td style=\"text-align: right;\">-0.00481684</td><td style=\"text-align: right;\">-0.00485021</td><td style=\"text-align: right;\">-0.00488554</td><td style=\"text-align: right;\">-0.00491939</td><td style=\"text-align: right;\">-0.00494876</td><td style=\"text-align: right;\">-0.00497755</td><td style=\"text-align: right;\">-0.00500793</td><td style=\"text-align: right;\">-0.00503795</td><td style=\"text-align: right;\">-0.00506833</td><td style=\"text-align: right;\">-0.00509906</td><td style=\"text-align: right;\">-0.00513038</td><td style=\"text-align: right;\">-0.00516075</td><td style=\"text-align: right;\">-0.00518995</td><td style=\"text-align: right;\">-0.00522092</td><td style=\"text-align: right;\">-0.00525447</td><td style=\"text-align: right;\">-0.0052882 </td><td style=\"text-align: right;\">-0.00532176</td><td style=\"text-align: right;\">-0.00535473</td><td style=\"text-align: right;\">-0.00538652</td><td style=\"text-align: right;\">-0.00541713</td><td style=\"text-align: right;\">-0.00544627</td><td style=\"text-align: right;\">-0.00547629</td><td style=\"text-align: right;\">-0.00550785</td><td style=\"text-align: right;\">-0.0055397 </td><td style=\"text-align: right;\">-0.00557025</td><td style=\"text-align: right;\">-0.00560063</td><td style=\"text-align: right;\">-0.00563065</td><td style=\"text-align: right;\">-0.00566103</td><td style=\"text-align: right;\">-0.0056927 </td><td style=\"text-align: right;\">-0.00572567</td><td style=\"text-align: right;\">-0.00576046</td><td style=\"text-align: right;\">-0.00579702</td><td style=\"text-align: right;\">-0.00583375</td><td style=\"text-align: right;\">-0.00587048</td><td style=\"text-align: right;\">-0.00590722</td><td style=\"text-align: right;\">-0.00594413</td><td style=\"text-align: right;\">-0.00598016</td><td style=\"text-align: right;\">-0.00601642</td><td style=\"text-align: right;\">-0.00605445</td><td style=\"text-align: right;\">-0.00609425</td><td style=\"text-align: right;\">-0.00613505</td><td style=\"text-align: right;\">-0.00617655</td><td style=\"text-align: right;\">-0.00621746</td><td style=\"text-align: right;\">-0.00625655</td><td style=\"text-align: right;\">-0.00629329</td><td style=\"text-align: right;\">-0.00632896</td><td style=\"text-align: right;\">-0.00636581</td><td style=\"text-align: right;\">-0.00640373</td><td style=\"text-align: right;\">-0.00644246</td><td style=\"text-align: right;\">-0.00648061</td><td style=\"text-align: right;\">-0.00652023</td><td style=\"text-align: right;\">-0.00656279</td><td style=\"text-align: right;\">-0.00660565</td><td style=\"text-align: right;\">-0.00664603</td><td style=\"text-align: right;\">-0.00668289</td><td style=\"text-align: right;\">-0.00671927</td><td style=\"text-align: right;\">-0.00675694</td><td style=\"text-align: right;\">-0.00679497</td><td style=\"text-align: right;\">-0.00683418</td><td style=\"text-align: right;\">-0.00687592</td><td style=\"text-align: right;\">-0.00691866</td></tr>\n",
       "<tr><td>S_lewini    </td><td style=\"text-align: right;\">-0.0016248  </td><td style=\"text-align: right;\">-0.00178022 </td><td style=\"text-align: right;\">-0.00186735 </td><td style=\"text-align: right;\">-0.00178964 </td><td style=\"text-align: right;\">-0.00177845 </td><td style=\"text-align: right;\">-0.00182967 </td><td style=\"text-align: right;\">-0.00183085 </td><td style=\"text-align: right;\">-0.00180242 </td><td style=\"text-align: right;\">-0.00178905 </td><td style=\"text-align: right;\">-0.0017967  </td><td style=\"text-align: right;\">-0.00178987 </td><td style=\"text-align: right;\">-0.00179306 </td><td style=\"text-align: right;\">-0.00180789 </td><td style=\"text-align: right;\">-0.00181989 </td><td style=\"text-align: right;\">-0.00184178 </td><td style=\"text-align: right;\">-0.00185981 </td><td style=\"text-align: right;\">-0.00185616 </td><td style=\"text-align: right;\">-0.00186084 </td><td style=\"text-align: right;\">-0.00186067 </td><td style=\"text-align: right;\">-0.00186462 </td><td style=\"text-align: right;\">-0.00188053</td><td style=\"text-align: right;\">-0.00189729</td><td style=\"text-align: right;\">-0.00190973</td><td style=\"text-align: right;\">-0.00193072</td><td style=\"text-align: right;\">-0.00194535</td><td style=\"text-align: right;\">-0.00196926</td><td style=\"text-align: right;\">-0.00198916</td><td style=\"text-align: right;\">-0.0020075 </td><td style=\"text-align: right;\">-0.00202899</td><td style=\"text-align: right;\">-0.00205281</td><td style=\"text-align: right;\">-0.0020708 </td><td style=\"text-align: right;\">-0.00208877</td><td style=\"text-align: right;\">-0.00210386</td><td style=\"text-align: right;\">-0.00212116</td><td style=\"text-align: right;\">-0.00213593</td><td style=\"text-align: right;\">-0.00215201</td><td style=\"text-align: right;\">-0.0021647 </td><td style=\"text-align: right;\">-0.00217964</td><td style=\"text-align: right;\">-0.00219999</td><td style=\"text-align: right;\">-0.00221918</td><td style=\"text-align: right;\">-0.00223251</td><td style=\"text-align: right;\">-0.00225035</td><td style=\"text-align: right;\">-0.00226342</td><td style=\"text-align: right;\">-0.00227355</td><td style=\"text-align: right;\">-0.00228685</td><td style=\"text-align: right;\">-0.00230298 </td><td style=\"text-align: right;\">-0.002321   </td><td style=\"text-align: right;\">-0.00233777 </td><td style=\"text-align: right;\">-0.00235355 </td><td style=\"text-align: right;\">-0.00236756 </td><td style=\"text-align: right;\">-0.00237981 </td><td style=\"text-align: right;\">-0.00239111 </td><td style=\"text-align: right;\">-0.0024063  </td><td style=\"text-align: right;\">-0.00242537 </td><td style=\"text-align: right;\">-0.00244498 </td><td style=\"text-align: right;\">-0.00246499 </td><td style=\"text-align: right;\">-0.00248512 </td><td style=\"text-align: right;\">-0.00250432 </td><td style=\"text-align: right;\">-0.00252204 </td><td style=\"text-align: right;\">-0.0025414  </td><td style=\"text-align: right;\">-0.00256142 </td><td style=\"text-align: right;\">-0.00258226 </td><td style=\"text-align: right;\">-0.00260392 </td><td style=\"text-align: right;\">-0.0026237  </td><td style=\"text-align: right;\">-0.00264136 </td><td style=\"text-align: right;\">-0.00265879</td><td style=\"text-align: right;\">-0.00267669</td><td style=\"text-align: right;\">-0.00269329</td><td style=\"text-align: right;\">-0.00270806</td><td style=\"text-align: right;\">-0.00272243</td><td style=\"text-align: right;\">-0.00273832</td><td style=\"text-align: right;\">-0.00275934</td><td style=\"text-align: right;\">-0.00278336</td><td style=\"text-align: right;\">-0.00280685</td><td style=\"text-align: right;\">-0.00282592</td><td style=\"text-align: right;\">-0.00284764</td><td style=\"text-align: right;\">-0.00287325</td><td style=\"text-align: right;\">-0.00289963</td><td style=\"text-align: right;\">-0.00292329</td><td style=\"text-align: right;\">-0.00294354</td><td style=\"text-align: right;\">-0.00296244</td><td style=\"text-align: right;\">-0.00298063</td><td style=\"text-align: right;\">-0.0029997 </td><td style=\"text-align: right;\">-0.00302072</td><td style=\"text-align: right;\">-0.00304027</td><td style=\"text-align: right;\">-0.00305875</td><td style=\"text-align: right;\">-0.00307653</td><td style=\"text-align: right;\">-0.00309578</td><td style=\"text-align: right;\">-0.00311662</td><td style=\"text-align: right;\">-0.00313393</td><td style=\"text-align: right;\">-0.003151  </td><td style=\"text-align: right;\">-0.00316837</td><td style=\"text-align: right;\">-0.00318585</td><td style=\"text-align: right;\">-0.00320351</td><td style=\"text-align: right;\">-0.00322211</td><td style=\"text-align: right;\">-0.00323978</td><td style=\"text-align: right;\">-0.00325649</td><td style=\"text-align: right;\">-0.00327292</td><td style=\"text-align: right;\">-0.00328864</td><td style=\"text-align: right;\">-0.00330541</td><td style=\"text-align: right;\">-0.00332461</td><td style=\"text-align: right;\">-0.00334427</td><td style=\"text-align: right;\">-0.00336281</td><td style=\"text-align: right;\">-0.00338312</td><td style=\"text-align: right;\">-0.00340502</td><td style=\"text-align: right;\">-0.00342622</td><td style=\"text-align: right;\">-0.00344764</td><td style=\"text-align: right;\">-0.00347131</td><td style=\"text-align: right;\">-0.00349545</td><td style=\"text-align: right;\">-0.00351823</td><td style=\"text-align: right;\">-0.00354095</td><td style=\"text-align: right;\">-0.00356485</td><td style=\"text-align: right;\">-0.0035897 </td><td style=\"text-align: right;\">-0.00361478</td><td style=\"text-align: right;\">-0.0036395 </td><td style=\"text-align: right;\">-0.00366158</td><td style=\"text-align: right;\">-0.00368036</td><td style=\"text-align: right;\">-0.00369737</td><td style=\"text-align: right;\">-0.00371668</td><td style=\"text-align: right;\">-0.00374034</td><td style=\"text-align: right;\">-0.00376336</td><td style=\"text-align: right;\">-0.0037842 </td><td style=\"text-align: right;\">-0.00380522</td><td style=\"text-align: right;\">-0.003828  </td><td style=\"text-align: right;\">-0.00385072</td><td style=\"text-align: right;\">-0.00387392</td><td style=\"text-align: right;\">-0.00389794</td><td style=\"text-align: right;\">-0.00392372</td><td style=\"text-align: right;\">-0.00394821</td><td style=\"text-align: right;\">-0.00397117</td><td style=\"text-align: right;\">-0.00399331</td><td style=\"text-align: right;\">-0.00401715</td><td style=\"text-align: right;\">-0.00404187</td><td style=\"text-align: right;\">-0.00406572</td><td style=\"text-align: right;\">-0.00408868</td><td style=\"text-align: right;\">-0.00411022</td><td style=\"text-align: right;\">-0.00413047</td><td style=\"text-align: right;\">-0.00414943</td><td style=\"text-align: right;\">-0.00417003</td><td style=\"text-align: right;\">-0.00419282</td><td style=\"text-align: right;\">-0.00421625</td><td style=\"text-align: right;\">-0.00423856</td><td style=\"text-align: right;\">-0.00425698</td><td style=\"text-align: right;\">-0.00427482</td><td style=\"text-align: right;\">-0.00429513</td><td style=\"text-align: right;\">-0.00431727</td><td style=\"text-align: right;\">-0.00433987</td><td style=\"text-align: right;\">-0.00436295</td><td style=\"text-align: right;\">-0.00438773</td><td style=\"text-align: right;\">-0.00441476</td><td style=\"text-align: right;\">-0.00444278</td><td style=\"text-align: right;\">-0.00446892</td><td style=\"text-align: right;\">-0.00449223</td><td style=\"text-align: right;\">-0.00451554</td><td style=\"text-align: right;\">-0.00453974</td><td style=\"text-align: right;\">-0.00456423</td><td style=\"text-align: right;\">-0.00458654</td><td style=\"text-align: right;\">-0.00460667</td><td style=\"text-align: right;\">-0.00462692</td><td style=\"text-align: right;\">-0.0046487 </td><td style=\"text-align: right;\">-0.00467366</td><td style=\"text-align: right;\">-0.00470045</td><td style=\"text-align: right;\">-0.00472765</td><td style=\"text-align: right;\">-0.00475343</td><td style=\"text-align: right;\">-0.00477904</td><td style=\"text-align: right;\">-0.00480518</td><td style=\"text-align: right;\">-0.00483085</td><td style=\"text-align: right;\">-0.00485604</td><td style=\"text-align: right;\">-0.00488271</td><td style=\"text-align: right;\">-0.0049115 </td><td style=\"text-align: right;\">-0.00493999</td><td style=\"text-align: right;\">-0.00496825</td><td style=\"text-align: right;\">-0.00499627</td><td style=\"text-align: right;\">-0.005024  </td><td style=\"text-align: right;\">-0.00505049</td><td style=\"text-align: right;\">-0.00507698</td><td style=\"text-align: right;\">-0.00510453</td><td style=\"text-align: right;\">-0.00513314</td><td style=\"text-align: right;\">-0.00516211</td><td style=\"text-align: right;\">-0.00519072</td><td style=\"text-align: right;\">-0.00521827</td><td style=\"text-align: right;\">-0.0052457 </td><td style=\"text-align: right;\">-0.00527461</td><td style=\"text-align: right;\">-0.00530357</td><td style=\"text-align: right;\">-0.0053313 </td><td style=\"text-align: right;\">-0.00535685</td><td style=\"text-align: right;\">-0.00538039</td><td style=\"text-align: right;\">-0.005401  </td><td style=\"text-align: right;\">-0.00542349</td><td style=\"text-align: right;\">-0.00544963</td><td style=\"text-align: right;\">-0.00547735</td><td style=\"text-align: right;\">-0.00550479</td><td style=\"text-align: right;\">-0.00553069</td><td style=\"text-align: right;\">-0.00555612</td><td style=\"text-align: right;\">-0.00558179</td><td style=\"text-align: right;\">-0.00560757</td><td style=\"text-align: right;\">-0.00563512</td><td style=\"text-align: right;\">-0.00566509</td><td style=\"text-align: right;\">-0.00569582</td></tr>\n",
       "<tr><td>S_lewini    </td><td style=\"text-align: right;\">-0.000861852</td><td style=\"text-align: right;\">-0.00100314 </td><td style=\"text-align: right;\">-0.00111852 </td><td style=\"text-align: right;\">-0.00106672 </td><td style=\"text-align: right;\">-0.00107261 </td><td style=\"text-align: right;\">-0.00109921 </td><td style=\"text-align: right;\">-0.00110322 </td><td style=\"text-align: right;\">-0.00111112 </td><td style=\"text-align: right;\">-0.00110292 </td><td style=\"text-align: right;\">-0.00108477 </td><td style=\"text-align: right;\">-0.00106648 </td><td style=\"text-align: right;\">-0.00106158 </td><td style=\"text-align: right;\">-0.00105141 </td><td style=\"text-align: right;\">-0.00105911 </td><td style=\"text-align: right;\">-0.00107631 </td><td style=\"text-align: right;\">-0.00108414 </td><td style=\"text-align: right;\">-0.00109277 </td><td style=\"text-align: right;\">-0.00108833 </td><td style=\"text-align: right;\">-0.00108713 </td><td style=\"text-align: right;\">-0.00107899 </td><td style=\"text-align: right;\">-0.00107414</td><td style=\"text-align: right;\">-0.0010758 </td><td style=\"text-align: right;\">-0.00107764</td><td style=\"text-align: right;\">-0.00108054</td><td style=\"text-align: right;\">-0.00107908</td><td style=\"text-align: right;\">-0.00108283</td><td style=\"text-align: right;\">-0.0010871 </td><td style=\"text-align: right;\">-0.00108948</td><td style=\"text-align: right;\">-0.00109245</td><td style=\"text-align: right;\">-0.00110228</td><td style=\"text-align: right;\">-0.00110298</td><td style=\"text-align: right;\">-0.00110432</td><td style=\"text-align: right;\">-0.00110314</td><td style=\"text-align: right;\">-0.00110233</td><td style=\"text-align: right;\">-0.00110162</td><td style=\"text-align: right;\">-0.0011081 </td><td style=\"text-align: right;\">-0.00111185</td><td style=\"text-align: right;\">-0.00111426</td><td style=\"text-align: right;\">-0.00112398</td><td style=\"text-align: right;\">-0.00113392</td><td style=\"text-align: right;\">-0.0011333 </td><td style=\"text-align: right;\">-0.0011393 </td><td style=\"text-align: right;\">-0.00114107</td><td style=\"text-align: right;\">-0.00113966</td><td style=\"text-align: right;\">-0.00114025</td><td style=\"text-align: right;\">-0.00114237 </td><td style=\"text-align: right;\">-0.00114619 </td><td style=\"text-align: right;\">-0.00114867 </td><td style=\"text-align: right;\">-0.00114949 </td><td style=\"text-align: right;\">-0.00114984 </td><td style=\"text-align: right;\">-0.00114972 </td><td style=\"text-align: right;\">-0.0011499  </td><td style=\"text-align: right;\">-0.00115184 </td><td style=\"text-align: right;\">-0.00115449 </td><td style=\"text-align: right;\">-0.0011552  </td><td style=\"text-align: right;\">-0.00115649 </td><td style=\"text-align: right;\">-0.0011612  </td><td style=\"text-align: right;\">-0.0011688  </td><td style=\"text-align: right;\">-0.0011761  </td><td style=\"text-align: right;\">-0.0011831  </td><td style=\"text-align: right;\">-0.00118864 </td><td style=\"text-align: right;\">-0.00119482 </td><td style=\"text-align: right;\">-0.00120165 </td><td style=\"text-align: right;\">-0.00120677 </td><td style=\"text-align: right;\">-0.00121118 </td><td style=\"text-align: right;\">-0.00121466</td><td style=\"text-align: right;\">-0.0012169 </td><td style=\"text-align: right;\">-0.00121913</td><td style=\"text-align: right;\">-0.0012209 </td><td style=\"text-align: right;\">-0.0012239 </td><td style=\"text-align: right;\">-0.00122814</td><td style=\"text-align: right;\">-0.00123255</td><td style=\"text-align: right;\">-0.00123609</td><td style=\"text-align: right;\">-0.00124368</td><td style=\"text-align: right;\">-0.00124792</td><td style=\"text-align: right;\">-0.00125292</td><td style=\"text-align: right;\">-0.00126011</td><td style=\"text-align: right;\">-0.00127141</td><td style=\"text-align: right;\">-0.00128012</td><td style=\"text-align: right;\">-0.00128942</td><td style=\"text-align: right;\">-0.00129702</td><td style=\"text-align: right;\">-0.00130302</td><td style=\"text-align: right;\">-0.00130814</td><td style=\"text-align: right;\">-0.00131415</td><td style=\"text-align: right;\">-0.00132263</td><td style=\"text-align: right;\">-0.00132851</td><td style=\"text-align: right;\">-0.0013364 </td><td style=\"text-align: right;\">-0.00134382</td><td style=\"text-align: right;\">-0.00135141</td><td style=\"text-align: right;\">-0.00135565</td><td style=\"text-align: right;\">-0.00136307</td><td style=\"text-align: right;\">-0.00136784</td><td style=\"text-align: right;\">-0.00137137</td><td style=\"text-align: right;\">-0.00137631</td><td style=\"text-align: right;\">-0.00138267</td><td style=\"text-align: right;\">-0.00138797</td><td style=\"text-align: right;\">-0.00139221</td><td style=\"text-align: right;\">-0.00139415</td><td style=\"text-align: right;\">-0.00139574</td><td style=\"text-align: right;\">-0.00140122</td><td style=\"text-align: right;\">-0.00141058</td><td style=\"text-align: right;\">-0.00142011</td><td style=\"text-align: right;\">-0.00142682</td><td style=\"text-align: right;\">-0.00143471</td><td style=\"text-align: right;\">-0.00144531</td><td style=\"text-align: right;\">-0.00145644</td><td style=\"text-align: right;\">-0.00146809</td><td style=\"text-align: right;\">-0.00148081</td><td style=\"text-align: right;\">-0.00149235</td><td style=\"text-align: right;\">-0.00150012</td><td style=\"text-align: right;\">-0.00150494</td><td style=\"text-align: right;\">-0.00150965</td><td style=\"text-align: right;\">-0.00151637</td><td style=\"text-align: right;\">-0.00152478</td><td style=\"text-align: right;\">-0.00153432</td><td style=\"text-align: right;\">-0.00154062</td><td style=\"text-align: right;\">-0.00154197</td><td style=\"text-align: right;\">-0.00153991</td><td style=\"text-align: right;\">-0.00153985</td><td style=\"text-align: right;\">-0.00154551</td><td style=\"text-align: right;\">-0.00155369</td><td style=\"text-align: right;\">-0.00156175</td><td style=\"text-align: right;\">-0.00157058</td><td style=\"text-align: right;\">-0.00158065</td><td style=\"text-align: right;\">-0.00159089</td><td style=\"text-align: right;\">-0.00160008</td><td style=\"text-align: right;\">-0.00160867</td><td style=\"text-align: right;\">-0.0016165 </td><td style=\"text-align: right;\">-0.00162551</td><td style=\"text-align: right;\">-0.00163599</td><td style=\"text-align: right;\">-0.00164706</td><td style=\"text-align: right;\">-0.00165871</td><td style=\"text-align: right;\">-0.00167019</td><td style=\"text-align: right;\">-0.00168096</td><td style=\"text-align: right;\">-0.00169209</td><td style=\"text-align: right;\">-0.00170304</td><td style=\"text-align: right;\">-0.00171128</td><td style=\"text-align: right;\">-0.00171682</td><td style=\"text-align: right;\">-0.00172206</td><td style=\"text-align: right;\">-0.00173018</td><td style=\"text-align: right;\">-0.00174125</td><td style=\"text-align: right;\">-0.00175261</td><td style=\"text-align: right;\">-0.00176044</td><td style=\"text-align: right;\">-0.00176803</td><td style=\"text-align: right;\">-0.00177845</td><td style=\"text-align: right;\">-0.00178881</td><td style=\"text-align: right;\">-0.0017967 </td><td style=\"text-align: right;\">-0.00180212</td><td style=\"text-align: right;\">-0.00180653</td><td style=\"text-align: right;\">-0.00181042</td><td style=\"text-align: right;\">-0.00181536</td><td style=\"text-align: right;\">-0.00182137</td><td style=\"text-align: right;\">-0.00182843</td><td style=\"text-align: right;\">-0.00183603</td><td style=\"text-align: right;\">-0.00184398</td><td style=\"text-align: right;\">-0.00185175</td><td style=\"text-align: right;\">-0.00185716</td><td style=\"text-align: right;\">-0.00186022</td><td style=\"text-align: right;\">-0.00186299</td><td style=\"text-align: right;\">-0.00186688</td><td style=\"text-align: right;\">-0.00187312</td><td style=\"text-align: right;\">-0.00188195</td><td style=\"text-align: right;\">-0.00189272</td><td style=\"text-align: right;\">-0.0019012 </td><td style=\"text-align: right;\">-0.00190596</td><td style=\"text-align: right;\">-0.00191044</td><td style=\"text-align: right;\">-0.00191668</td><td style=\"text-align: right;\">-0.00192469</td><td style=\"text-align: right;\">-0.00193352</td><td style=\"text-align: right;\">-0.0019427 </td><td style=\"text-align: right;\">-0.00195235</td><td style=\"text-align: right;\">-0.00196177</td><td style=\"text-align: right;\">-0.00197096</td><td style=\"text-align: right;\">-0.00197943</td><td style=\"text-align: right;\">-0.00198703</td><td style=\"text-align: right;\">-0.00199421</td><td style=\"text-align: right;\">-0.00200257</td><td style=\"text-align: right;\">-0.00201211</td><td style=\"text-align: right;\">-0.0020227 </td><td style=\"text-align: right;\">-0.00203242</td><td style=\"text-align: right;\">-0.00203978</td><td style=\"text-align: right;\">-0.00204637</td><td style=\"text-align: right;\">-0.0020552 </td><td style=\"text-align: right;\">-0.00206385</td><td style=\"text-align: right;\">-0.00206886</td><td style=\"text-align: right;\">-0.0020718 </td><td style=\"text-align: right;\">-0.00207345</td><td style=\"text-align: right;\">-0.0020738 </td><td style=\"text-align: right;\">-0.0020741 </td><td style=\"text-align: right;\">-0.00207657</td><td style=\"text-align: right;\">-0.00208304</td><td style=\"text-align: right;\">-0.00209117</td><td style=\"text-align: right;\">-0.00209812</td><td style=\"text-align: right;\">-0.00210394</td><td style=\"text-align: right;\">-0.00210895</td><td style=\"text-align: right;\">-0.00211295</td><td style=\"text-align: right;\">-0.00211837</td><td style=\"text-align: right;\">-0.0021269 </td><td style=\"text-align: right;\">-0.0021398 </td></tr>\n",
       "<tr><td>S_lewini    </td><td style=\"text-align: right;\">-0.00154003 </td><td style=\"text-align: right;\">-0.00167425 </td><td style=\"text-align: right;\">-0.00176727 </td><td style=\"text-align: right;\">-0.00170958 </td><td style=\"text-align: right;\">-0.00169015 </td><td style=\"text-align: right;\">-0.00167708 </td><td style=\"text-align: right;\">-0.00167308 </td><td style=\"text-align: right;\">-0.00169881 </td><td style=\"text-align: right;\">-0.0017237  </td><td style=\"text-align: right;\">-0.00171272 </td><td style=\"text-align: right;\">-0.00169969 </td><td style=\"text-align: right;\">-0.00172306 </td><td style=\"text-align: right;\">-0.00171605 </td><td style=\"text-align: right;\">-0.00170305 </td><td style=\"text-align: right;\">-0.00169545 </td><td style=\"text-align: right;\">-0.00169262 </td><td style=\"text-align: right;\">-0.00169633 </td><td style=\"text-align: right;\">-0.00171456 </td><td style=\"text-align: right;\">-0.00172449 </td><td style=\"text-align: right;\">-0.00172668 </td><td style=\"text-align: right;\">-0.00172229</td><td style=\"text-align: right;\">-0.00171328</td><td style=\"text-align: right;\">-0.00169363</td><td style=\"text-align: right;\">-0.0016933 </td><td style=\"text-align: right;\">-0.0016825 </td><td style=\"text-align: right;\">-0.00168075</td><td style=\"text-align: right;\">-0.00168404</td><td style=\"text-align: right;\">-0.00168655</td><td style=\"text-align: right;\">-0.00168737</td><td style=\"text-align: right;\">-0.00169277</td><td style=\"text-align: right;\">-0.00169027</td><td style=\"text-align: right;\">-0.0016918 </td><td style=\"text-align: right;\">-0.00169545</td><td style=\"text-align: right;\">-0.00169359</td><td style=\"text-align: right;\">-0.00169295</td><td style=\"text-align: right;\">-0.00169747</td><td style=\"text-align: right;\">-0.00170114</td><td style=\"text-align: right;\">-0.00170366</td><td style=\"text-align: right;\">-0.00171143</td><td style=\"text-align: right;\">-0.00171912</td><td style=\"text-align: right;\">-0.00171982</td><td style=\"text-align: right;\">-0.001726  </td><td style=\"text-align: right;\">-0.00172865</td><td style=\"text-align: right;\">-0.00172836</td><td style=\"text-align: right;\">-0.00173024</td><td style=\"text-align: right;\">-0.00173471 </td><td style=\"text-align: right;\">-0.00174137 </td><td style=\"text-align: right;\">-0.00174772 </td><td style=\"text-align: right;\">-0.00175255 </td><td style=\"text-align: right;\">-0.00175691 </td><td style=\"text-align: right;\">-0.00176079 </td><td style=\"text-align: right;\">-0.00176503 </td><td style=\"text-align: right;\">-0.00176821 </td><td style=\"text-align: right;\">-0.00176962 </td><td style=\"text-align: right;\">-0.00176886 </td><td style=\"text-align: right;\">-0.00176898 </td><td style=\"text-align: right;\">-0.00177157 </td><td style=\"text-align: right;\">-0.00177898 </td><td style=\"text-align: right;\">-0.00178793 </td><td style=\"text-align: right;\">-0.00179629 </td><td style=\"text-align: right;\">-0.0018023  </td><td style=\"text-align: right;\">-0.00180583 </td><td style=\"text-align: right;\">-0.00180689 </td><td style=\"text-align: right;\">-0.00180812 </td><td style=\"text-align: right;\">-0.0018136  </td><td style=\"text-align: right;\">-0.00182202</td><td style=\"text-align: right;\">-0.00183049</td><td style=\"text-align: right;\">-0.00183885</td><td style=\"text-align: right;\">-0.0018478 </td><td style=\"text-align: right;\">-0.00185793</td><td style=\"text-align: right;\">-0.00186746</td><td style=\"text-align: right;\">-0.00187576</td><td style=\"text-align: right;\">-0.00188318</td><td style=\"text-align: right;\">-0.00188689</td><td style=\"text-align: right;\">-0.00188795</td><td style=\"text-align: right;\">-0.00188983</td><td style=\"text-align: right;\">-0.00189431</td><td style=\"text-align: right;\">-0.00190267</td><td style=\"text-align: right;\">-0.0019082 </td><td style=\"text-align: right;\">-0.00191797</td><td style=\"text-align: right;\">-0.00192857</td><td style=\"text-align: right;\">-0.00193899</td><td style=\"text-align: right;\">-0.00195082</td><td style=\"text-align: right;\">-0.00196584</td><td style=\"text-align: right;\">-0.00198361</td><td style=\"text-align: right;\">-0.00199409</td><td style=\"text-align: right;\">-0.00200363</td><td style=\"text-align: right;\">-0.0020137 </td><td style=\"text-align: right;\">-0.00202747</td><td style=\"text-align: right;\">-0.00204101</td><td style=\"text-align: right;\">-0.0020509 </td><td style=\"text-align: right;\">-0.00205961</td><td style=\"text-align: right;\">-0.0020688 </td><td style=\"text-align: right;\">-0.00207657</td><td style=\"text-align: right;\">-0.00208328</td><td style=\"text-align: right;\">-0.00209129</td><td style=\"text-align: right;\">-0.00210059</td><td style=\"text-align: right;\">-0.0021096 </td><td style=\"text-align: right;\">-0.00211701</td><td style=\"text-align: right;\">-0.00212637</td><td style=\"text-align: right;\">-0.00213991</td><td style=\"text-align: right;\">-0.00215357</td><td style=\"text-align: right;\">-0.0021654 </td><td style=\"text-align: right;\">-0.00217724</td><td style=\"text-align: right;\">-0.0021896 </td><td style=\"text-align: right;\">-0.00220396</td><td style=\"text-align: right;\">-0.00222045</td><td style=\"text-align: right;\">-0.00223681</td><td style=\"text-align: right;\">-0.00225071</td><td style=\"text-align: right;\">-0.00226166</td><td style=\"text-align: right;\">-0.00227237</td><td style=\"text-align: right;\">-0.00228408</td><td style=\"text-align: right;\">-0.0022991 </td><td style=\"text-align: right;\">-0.00231434</td><td style=\"text-align: right;\">-0.00232847</td><td style=\"text-align: right;\">-0.00234089</td><td style=\"text-align: right;\">-0.00235067</td><td style=\"text-align: right;\">-0.00235891</td><td style=\"text-align: right;\">-0.00236803</td><td style=\"text-align: right;\">-0.00238075</td><td style=\"text-align: right;\">-0.00239452</td><td style=\"text-align: right;\">-0.002407  </td><td style=\"text-align: right;\">-0.00241919</td><td style=\"text-align: right;\">-0.00243191</td><td style=\"text-align: right;\">-0.00244456</td><td style=\"text-align: right;\">-0.00245728</td><td style=\"text-align: right;\">-0.00246964</td><td style=\"text-align: right;\">-0.00248206</td><td style=\"text-align: right;\">-0.00249525</td><td style=\"text-align: right;\">-0.00251044</td><td style=\"text-align: right;\">-0.00252692</td><td style=\"text-align: right;\">-0.00254352</td><td style=\"text-align: right;\">-0.00255942</td><td style=\"text-align: right;\">-0.00257496</td><td style=\"text-align: right;\">-0.00259085</td><td style=\"text-align: right;\">-0.0026071 </td><td style=\"text-align: right;\">-0.00262064</td><td style=\"text-align: right;\">-0.00263147</td><td style=\"text-align: right;\">-0.00264072</td><td style=\"text-align: right;\">-0.00265167</td><td style=\"text-align: right;\">-0.00266568</td><td style=\"text-align: right;\">-0.00268163</td><td style=\"text-align: right;\">-0.00269664</td><td style=\"text-align: right;\">-0.0027136 </td><td style=\"text-align: right;\">-0.00273197</td><td style=\"text-align: right;\">-0.00274916</td><td style=\"text-align: right;\">-0.0027654 </td><td style=\"text-align: right;\">-0.00278071</td><td style=\"text-align: right;\">-0.00279613</td><td style=\"text-align: right;\">-0.00281097</td><td style=\"text-align: right;\">-0.00282404</td><td style=\"text-align: right;\">-0.0028374 </td><td style=\"text-align: right;\">-0.00285135</td><td style=\"text-align: right;\">-0.00286689</td><td style=\"text-align: right;\">-0.00288473</td><td style=\"text-align: right;\">-0.00290357</td><td style=\"text-align: right;\">-0.002921  </td><td style=\"text-align: right;\">-0.00293701</td><td style=\"text-align: right;\">-0.00295296</td><td style=\"text-align: right;\">-0.00296874</td><td style=\"text-align: right;\">-0.00298452</td><td style=\"text-align: right;\">-0.00300165</td><td style=\"text-align: right;\">-0.0030209 </td><td style=\"text-align: right;\">-0.00303909</td><td style=\"text-align: right;\">-0.00305569</td><td style=\"text-align: right;\">-0.00307417</td><td style=\"text-align: right;\">-0.00309431</td><td style=\"text-align: right;\">-0.00311609</td><td style=\"text-align: right;\">-0.00313605</td><td style=\"text-align: right;\">-0.00315424</td><td style=\"text-align: right;\">-0.00317272</td><td style=\"text-align: right;\">-0.00319097</td><td style=\"text-align: right;\">-0.00320899</td><td style=\"text-align: right;\">-0.00322841</td><td style=\"text-align: right;\">-0.00325137</td><td style=\"text-align: right;\">-0.00327586</td><td style=\"text-align: right;\">-0.00330023</td><td style=\"text-align: right;\">-0.00332449</td><td style=\"text-align: right;\">-0.00334868</td><td style=\"text-align: right;\">-0.00337235</td><td style=\"text-align: right;\">-0.00339366</td><td style=\"text-align: right;\">-0.00341285</td><td style=\"text-align: right;\">-0.00343187</td><td style=\"text-align: right;\">-0.00345094</td><td style=\"text-align: right;\">-0.00346948</td><td style=\"text-align: right;\">-0.00348738</td><td style=\"text-align: right;\">-0.00350457</td><td style=\"text-align: right;\">-0.00352094</td><td style=\"text-align: right;\">-0.00353925</td><td style=\"text-align: right;\">-0.00356185</td><td style=\"text-align: right;\">-0.00358493</td><td style=\"text-align: right;\">-0.00360553</td><td style=\"text-align: right;\">-0.00362243</td><td style=\"text-align: right;\">-0.00363885</td><td style=\"text-align: right;\">-0.00365787</td><td style=\"text-align: right;\">-0.00367871</td><td style=\"text-align: right;\">-0.00370072</td><td style=\"text-align: right;\">-0.00372486</td><td style=\"text-align: right;\">-0.00375029</td></tr>\n",
       "<tr><td>S_lewini    </td><td style=\"text-align: right;\">-0.000819466</td><td style=\"text-align: right;\">-0.000854788</td><td style=\"text-align: right;\">-0.000898351</td><td style=\"text-align: right;\">-0.000901884</td><td style=\"text-align: right;\">-0.000893642</td><td style=\"text-align: right;\">-0.000884458</td><td style=\"text-align: right;\">-0.000881868</td><td style=\"text-align: right;\">-0.000891792</td><td style=\"text-align: right;\">-0.000905121</td><td style=\"text-align: right;\">-0.000909733</td><td style=\"text-align: right;\">-0.000920722</td><td style=\"text-align: right;\">-0.000926074</td><td style=\"text-align: right;\">-0.000921899</td><td style=\"text-align: right;\">-0.000921084</td><td style=\"text-align: right;\">-0.000935523</td><td style=\"text-align: right;\">-0.000950863</td><td style=\"text-align: right;\">-0.000969731</td><td style=\"text-align: right;\">-0.000976129</td><td style=\"text-align: right;\">-0.000981554</td><td style=\"text-align: right;\">-0.000990126</td><td style=\"text-align: right;\">-0.00099996</td><td style=\"text-align: right;\">-0.0010139 </td><td style=\"text-align: right;\">-0.00103504</td><td style=\"text-align: right;\">-0.00105781</td><td style=\"text-align: right;\">-0.00107732</td><td style=\"text-align: right;\">-0.0010913 </td><td style=\"text-align: right;\">-0.00110938</td><td style=\"text-align: right;\">-0.00111957</td><td style=\"text-align: right;\">-0.00113307</td><td style=\"text-align: right;\">-0.00115271</td><td style=\"text-align: right;\">-0.00116421</td><td style=\"text-align: right;\">-0.00117154</td><td style=\"text-align: right;\">-0.00118196</td><td style=\"text-align: right;\">-0.0011891 </td><td style=\"text-align: right;\">-0.00119595</td><td style=\"text-align: right;\">-0.00120256</td><td style=\"text-align: right;\">-0.00120899</td><td style=\"text-align: right;\">-0.00121755</td><td style=\"text-align: right;\">-0.0012279 </td><td style=\"text-align: right;\">-0.00123844</td><td style=\"text-align: right;\">-0.00124757</td><td style=\"text-align: right;\">-0.00125834</td><td style=\"text-align: right;\">-0.00126805</td><td style=\"text-align: right;\">-0.00127753</td><td style=\"text-align: right;\">-0.00128789</td><td style=\"text-align: right;\">-0.00129849 </td><td style=\"text-align: right;\">-0.0013092  </td><td style=\"text-align: right;\">-0.00131998 </td><td style=\"text-align: right;\">-0.00133069 </td><td style=\"text-align: right;\">-0.00134117 </td><td style=\"text-align: right;\">-0.00135141 </td><td style=\"text-align: right;\">-0.00136183 </td><td style=\"text-align: right;\">-0.0013719  </td><td style=\"text-align: right;\">-0.00138144 </td><td style=\"text-align: right;\">-0.00139121 </td><td style=\"text-align: right;\">-0.00140145 </td><td style=\"text-align: right;\">-0.00141146 </td><td style=\"text-align: right;\">-0.00142206 </td><td style=\"text-align: right;\">-0.00143242 </td><td style=\"text-align: right;\">-0.00144095 </td><td style=\"text-align: right;\">-0.00144849 </td><td style=\"text-align: right;\">-0.00145732 </td><td style=\"text-align: right;\">-0.00146744 </td><td style=\"text-align: right;\">-0.00147769 </td><td style=\"text-align: right;\">-0.00148652 </td><td style=\"text-align: right;\">-0.00149529</td><td style=\"text-align: right;\">-0.00150506</td><td style=\"text-align: right;\">-0.00151531</td><td style=\"text-align: right;\">-0.00152314</td><td style=\"text-align: right;\">-0.00152979</td><td style=\"text-align: right;\">-0.00153632</td><td style=\"text-align: right;\">-0.00154144</td><td style=\"text-align: right;\">-0.00154651</td><td style=\"text-align: right;\">-0.00155216</td><td style=\"text-align: right;\">-0.00155946</td><td style=\"text-align: right;\">-0.0015677 </td><td style=\"text-align: right;\">-0.00157553</td><td style=\"text-align: right;\">-0.00158401</td><td style=\"text-align: right;\">-0.00159084</td><td style=\"text-align: right;\">-0.00159708</td><td style=\"text-align: right;\">-0.00160555</td><td style=\"text-align: right;\">-0.00161403</td><td style=\"text-align: right;\">-0.00161986</td><td style=\"text-align: right;\">-0.00162427</td><td style=\"text-align: right;\">-0.00162757</td><td style=\"text-align: right;\">-0.00162992</td><td style=\"text-align: right;\">-0.00163346</td><td style=\"text-align: right;\">-0.00163734</td><td style=\"text-align: right;\">-0.0016414 </td><td style=\"text-align: right;\">-0.00164682</td><td style=\"text-align: right;\">-0.00165353</td><td style=\"text-align: right;\">-0.00166013</td><td style=\"text-align: right;\">-0.00166701</td><td style=\"text-align: right;\">-0.00167461</td><td style=\"text-align: right;\">-0.00168238</td><td style=\"text-align: right;\">-0.00168956</td><td style=\"text-align: right;\">-0.00169615</td><td style=\"text-align: right;\">-0.00170233</td><td style=\"text-align: right;\">-0.00170693</td><td style=\"text-align: right;\">-0.00171328</td><td style=\"text-align: right;\">-0.0017227 </td><td style=\"text-align: right;\">-0.00173324</td><td style=\"text-align: right;\">-0.00174472</td><td style=\"text-align: right;\">-0.00175608</td><td style=\"text-align: right;\">-0.00176703</td><td style=\"text-align: right;\">-0.00177975</td><td style=\"text-align: right;\">-0.00179352</td><td style=\"text-align: right;\">-0.00180683</td><td style=\"text-align: right;\">-0.00181801</td><td style=\"text-align: right;\">-0.00182773</td><td style=\"text-align: right;\">-0.00183726</td><td style=\"text-align: right;\">-0.00184733</td><td style=\"text-align: right;\">-0.00185916</td><td style=\"text-align: right;\">-0.00187129</td><td style=\"text-align: right;\">-0.00188224</td><td style=\"text-align: right;\">-0.00189207</td><td style=\"text-align: right;\">-0.00190084</td><td style=\"text-align: right;\">-0.00190856</td><td style=\"text-align: right;\">-0.00191621</td><td style=\"text-align: right;\">-0.00192469</td><td style=\"text-align: right;\">-0.00193334</td><td style=\"text-align: right;\">-0.00194199</td><td style=\"text-align: right;\">-0.00195135</td><td style=\"text-align: right;\">-0.00196142</td><td style=\"text-align: right;\">-0.00197137</td><td style=\"text-align: right;\">-0.0019802 </td><td style=\"text-align: right;\">-0.00198856</td><td style=\"text-align: right;\">-0.00199657</td><td style=\"text-align: right;\">-0.00200528</td><td style=\"text-align: right;\">-0.00201481</td><td style=\"text-align: right;\">-0.00202565</td><td style=\"text-align: right;\">-0.00203736</td><td style=\"text-align: right;\">-0.00204955</td><td style=\"text-align: right;\">-0.00205979</td><td style=\"text-align: right;\">-0.00206827</td><td style=\"text-align: right;\">-0.00207733</td><td style=\"text-align: right;\">-0.00208675</td><td style=\"text-align: right;\">-0.00209653</td><td style=\"text-align: right;\">-0.00210753</td><td style=\"text-align: right;\">-0.0021206 </td><td style=\"text-align: right;\">-0.00213485</td><td style=\"text-align: right;\">-0.00214886</td><td style=\"text-align: right;\">-0.00216205</td><td style=\"text-align: right;\">-0.00217441</td><td style=\"text-align: right;\">-0.00218889</td><td style=\"text-align: right;\">-0.00220491</td><td style=\"text-align: right;\">-0.0022188 </td><td style=\"text-align: right;\">-0.00223057</td><td style=\"text-align: right;\">-0.00224146</td><td style=\"text-align: right;\">-0.00225436</td><td style=\"text-align: right;\">-0.00226825</td><td style=\"text-align: right;\">-0.00228161</td><td style=\"text-align: right;\">-0.00229397</td><td style=\"text-align: right;\">-0.0023071 </td><td style=\"text-align: right;\">-0.00232312</td><td style=\"text-align: right;\">-0.00233913</td><td style=\"text-align: right;\">-0.00235426</td><td style=\"text-align: right;\">-0.0023685 </td><td style=\"text-align: right;\">-0.00238304</td><td style=\"text-align: right;\">-0.00239788</td><td style=\"text-align: right;\">-0.00241248</td><td style=\"text-align: right;\">-0.00242626</td><td style=\"text-align: right;\">-0.00244074</td><td style=\"text-align: right;\">-0.0024561 </td><td style=\"text-align: right;\">-0.00247129</td><td style=\"text-align: right;\">-0.00248636</td><td style=\"text-align: right;\">-0.00250108</td><td style=\"text-align: right;\">-0.00251544</td><td style=\"text-align: right;\">-0.00253081</td><td style=\"text-align: right;\">-0.00254776</td><td style=\"text-align: right;\">-0.00256413</td><td style=\"text-align: right;\">-0.00257849</td><td style=\"text-align: right;\">-0.00259085</td><td style=\"text-align: right;\">-0.00260269</td><td style=\"text-align: right;\">-0.00261682</td><td style=\"text-align: right;\">-0.00263212</td><td style=\"text-align: right;\">-0.00264602</td><td style=\"text-align: right;\">-0.0026585 </td><td style=\"text-align: right;\">-0.00267015</td><td style=\"text-align: right;\">-0.00268181</td><td style=\"text-align: right;\">-0.00269323</td><td style=\"text-align: right;\">-0.00270418</td><td style=\"text-align: right;\">-0.00271483</td><td style=\"text-align: right;\">-0.00272384</td><td style=\"text-align: right;\">-0.00273138</td><td style=\"text-align: right;\">-0.00273773</td><td style=\"text-align: right;\">-0.00274303</td><td style=\"text-align: right;\">-0.00274798</td><td style=\"text-align: right;\">-0.00275492</td><td style=\"text-align: right;\">-0.00276552</td><td style=\"text-align: right;\">-0.00277806</td><td style=\"text-align: right;\">-0.00279078</td><td style=\"text-align: right;\">-0.00280296</td><td style=\"text-align: right;\">-0.00281321</td><td style=\"text-align: right;\">-0.00282298</td><td style=\"text-align: right;\">-0.00283346</td><td style=\"text-align: right;\">-0.00284511</td><td style=\"text-align: right;\">-0.00285789</td><td style=\"text-align: right;\">-0.00287131</td></tr>\n",
       "<tr><td>R_australiae</td><td style=\"text-align: right;\">-0.00315071 </td><td style=\"text-align: right;\">-0.00332025 </td><td style=\"text-align: right;\">-0.00340738 </td><td style=\"text-align: right;\">-0.00342622 </td><td style=\"text-align: right;\">-0.00340855 </td><td style=\"text-align: right;\">-0.0034135  </td><td style=\"text-align: right;\">-0.00345565 </td><td style=\"text-align: right;\">-0.00349686 </td><td style=\"text-align: right;\">-0.00348538 </td><td style=\"text-align: right;\">-0.00345604 </td><td style=\"text-align: right;\">-0.00341162 </td><td style=\"text-align: right;\">-0.0033408  </td><td style=\"text-align: right;\">-0.00330436 </td><td style=\"text-align: right;\">-0.00328004 </td><td style=\"text-align: right;\">-0.00328947 </td><td style=\"text-align: right;\">-0.0032562  </td><td style=\"text-align: right;\">-0.00323062 </td><td style=\"text-align: right;\">-0.00321927 </td><td style=\"text-align: right;\">-0.00319466 </td><td style=\"text-align: right;\">-0.00314996 </td><td style=\"text-align: right;\">-0.00310479</td><td style=\"text-align: right;\">-0.00301951</td><td style=\"text-align: right;\">-0.00292122</td><td style=\"text-align: right;\">-0.00282574</td><td style=\"text-align: right;\">-0.00273096</td><td style=\"text-align: right;\">-0.00262512</td><td style=\"text-align: right;\">-0.00253094</td><td style=\"text-align: right;\">-0.00242944</td><td style=\"text-align: right;\">-0.0023431 </td><td style=\"text-align: right;\">-0.0022511 </td><td style=\"text-align: right;\">-0.00216852</td><td style=\"text-align: right;\">-0.00209606</td><td style=\"text-align: right;\">-0.00201356</td><td style=\"text-align: right;\">-0.00192186</td><td style=\"text-align: right;\">-0.00182988</td><td style=\"text-align: right;\">-0.00172027</td><td style=\"text-align: right;\">-0.00161741</td><td style=\"text-align: right;\">-0.00152609</td><td style=\"text-align: right;\">-0.00143183</td><td style=\"text-align: right;\">-0.0013351 </td><td style=\"text-align: right;\">-0.00124103</td><td style=\"text-align: right;\">-0.00117233</td><td style=\"text-align: right;\">-0.00109604</td><td style=\"text-align: right;\">-0.00101368</td><td style=\"text-align: right;\">-0.0009302 </td><td style=\"text-align: right;\">-0.000847429</td><td style=\"text-align: right;\">-0.000763304</td><td style=\"text-align: right;\">-0.000678179</td><td style=\"text-align: right;\">-0.000594466</td><td style=\"text-align: right;\">-0.000509811</td><td style=\"text-align: right;\">-0.000424215</td><td style=\"text-align: right;\">-0.000333791</td><td style=\"text-align: right;\">-0.000239305</td><td style=\"text-align: right;\">-0.000141994</td><td style=\"text-align: right;\">-4.34458e-05</td><td style=\"text-align: right;\"> 5.45133e-05</td><td style=\"text-align: right;\"> 0.000150471</td><td style=\"text-align: right;\"> 0.000246193</td><td style=\"text-align: right;\"> 0.000344505</td><td style=\"text-align: right;\"> 0.000445231</td><td style=\"text-align: right;\"> 0.000546487</td><td style=\"text-align: right;\"> 0.000643092</td><td style=\"text-align: right;\"> 0.000735047</td><td style=\"text-align: right;\"> 0.000830769</td><td style=\"text-align: right;\"> 0.000932143</td><td style=\"text-align: right;\"> 0.00103558</td><td style=\"text-align: right;\"> 0.00114307</td><td style=\"text-align: right;\"> 0.00125993</td><td style=\"text-align: right;\"> 0.00138038</td><td style=\"text-align: right;\"> 0.00149288</td><td style=\"text-align: right;\"> 0.00160061</td><td style=\"text-align: right;\"> 0.00171258</td><td style=\"text-align: right;\"> 0.00182985</td><td style=\"text-align: right;\"> 0.00195312</td><td style=\"text-align: right;\"> 0.00207533</td><td style=\"text-align: right;\"> 0.00220031</td><td style=\"text-align: right;\"> 0.00232329</td><td style=\"text-align: right;\"> 0.00244091</td><td style=\"text-align: right;\"> 0.00255865</td><td style=\"text-align: right;\"> 0.00267792</td><td style=\"text-align: right;\"> 0.00279766</td><td style=\"text-align: right;\"> 0.00291122</td><td style=\"text-align: right;\"> 0.00301754</td><td style=\"text-align: right;\"> 0.00312368</td><td style=\"text-align: right;\"> 0.00323271</td><td style=\"text-align: right;\"> 0.00334138</td><td style=\"text-align: right;\"> 0.00344688</td><td style=\"text-align: right;\"> 0.00355214</td><td style=\"text-align: right;\"> 0.00365757</td><td style=\"text-align: right;\"> 0.00375742</td><td style=\"text-align: right;\"> 0.0038602 </td><td style=\"text-align: right;\"> 0.00396505</td><td style=\"text-align: right;\"> 0.00407313</td><td style=\"text-align: right;\"> 0.00418157</td><td style=\"text-align: right;\"> 0.00428954</td><td style=\"text-align: right;\"> 0.00440239</td><td style=\"text-align: right;\"> 0.00452013</td><td style=\"text-align: right;\"> 0.00463563</td><td style=\"text-align: right;\"> 0.00475114</td><td style=\"text-align: right;\"> 0.00487264</td><td style=\"text-align: right;\"> 0.00499598</td><td style=\"text-align: right;\"> 0.00511954</td><td style=\"text-align: right;\"> 0.00524511</td><td style=\"text-align: right;\"> 0.00537262</td><td style=\"text-align: right;\"> 0.00549802</td><td style=\"text-align: right;\"> 0.0056167 </td><td style=\"text-align: right;\"> 0.00573267</td><td style=\"text-align: right;\"> 0.00584817</td><td style=\"text-align: right;\"> 0.00596974</td><td style=\"text-align: right;\"> 0.00609213</td><td style=\"text-align: right;\"> 0.00620704</td><td style=\"text-align: right;\"> 0.00632031</td><td style=\"text-align: right;\"> 0.00643922</td><td style=\"text-align: right;\"> 0.00656067</td><td style=\"text-align: right;\"> 0.00668289</td><td style=\"text-align: right;\"> 0.00680645</td><td style=\"text-align: right;\"> 0.00692996</td><td style=\"text-align: right;\"> 0.00705441</td><td style=\"text-align: right;\"> 0.00717751</td><td style=\"text-align: right;\"> 0.00729972</td><td style=\"text-align: right;\"> 0.00742282</td><td style=\"text-align: right;\"> 0.00754739</td><td style=\"text-align: right;\"> 0.00766978</td><td style=\"text-align: right;\"> 0.00778987</td><td style=\"text-align: right;\"> 0.0079092 </td><td style=\"text-align: right;\"> 0.00802776</td><td style=\"text-align: right;\"> 0.00814739</td><td style=\"text-align: right;\"> 0.00826601</td><td style=\"text-align: right;\"> 0.00838663</td><td style=\"text-align: right;\"> 0.00851167</td><td style=\"text-align: right;\"> 0.00864024</td><td style=\"text-align: right;\"> 0.00876917</td><td style=\"text-align: right;\"> 0.00889456</td><td style=\"text-align: right;\"> 0.00901925</td><td style=\"text-align: right;\"> 0.00914446</td><td style=\"text-align: right;\"> 0.00926997</td><td style=\"text-align: right;\"> 0.0093976 </td><td style=\"text-align: right;\"> 0.00952735</td><td style=\"text-align: right;\"> 0.00965404</td><td style=\"text-align: right;\"> 0.00977484</td><td style=\"text-align: right;\"> 0.00989317</td><td style=\"text-align: right;\"> 0.0100147 </td><td style=\"text-align: right;\"> 0.0101434 </td><td style=\"text-align: right;\"> 0.0102725 </td><td style=\"text-align: right;\"> 0.010397  </td><td style=\"text-align: right;\"> 0.0105202 </td><td style=\"text-align: right;\"> 0.0106406 </td><td style=\"text-align: right;\"> 0.010758  </td><td style=\"text-align: right;\"> 0.0108758 </td><td style=\"text-align: right;\"> 0.0109997 </td><td style=\"text-align: right;\"> 0.0111254 </td><td style=\"text-align: right;\"> 0.0112482 </td><td style=\"text-align: right;\"> 0.0113671 </td><td style=\"text-align: right;\"> 0.0114884 </td><td style=\"text-align: right;\"> 0.0116135 </td><td style=\"text-align: right;\"> 0.0117374 </td><td style=\"text-align: right;\"> 0.0118643 </td><td style=\"text-align: right;\"> 0.0119941 </td><td style=\"text-align: right;\"> 0.0121232 </td><td style=\"text-align: right;\"> 0.0122511 </td><td style=\"text-align: right;\"> 0.0123779 </td><td style=\"text-align: right;\"> 0.0125043 </td><td style=\"text-align: right;\"> 0.0126302 </td><td style=\"text-align: right;\"> 0.0127563 </td><td style=\"text-align: right;\"> 0.0128805 </td><td style=\"text-align: right;\"> 0.013003  </td><td style=\"text-align: right;\"> 0.0131285 </td><td style=\"text-align: right;\"> 0.013257  </td><td style=\"text-align: right;\"> 0.0133903 </td><td style=\"text-align: right;\"> 0.0135258 </td><td style=\"text-align: right;\"> 0.0136595 </td><td style=\"text-align: right;\"> 0.0137921 </td><td style=\"text-align: right;\"> 0.0139235 </td><td style=\"text-align: right;\"> 0.0140524 </td><td style=\"text-align: right;\"> 0.0141784 </td><td style=\"text-align: right;\"> 0.014304  </td><td style=\"text-align: right;\"> 0.0144305 </td><td style=\"text-align: right;\"> 0.0145581 </td><td style=\"text-align: right;\"> 0.0146843 </td><td style=\"text-align: right;\"> 0.0148053 </td><td style=\"text-align: right;\"> 0.0149264 </td><td style=\"text-align: right;\"> 0.0150525 </td><td style=\"text-align: right;\"> 0.0151818 </td><td style=\"text-align: right;\"> 0.0153067 </td><td style=\"text-align: right;\"> 0.0154266 </td><td style=\"text-align: right;\"> 0.0155494 </td><td style=\"text-align: right;\"> 0.0156799 </td><td style=\"text-align: right;\"> 0.015814  </td><td style=\"text-align: right;\"> 0.0159421 </td><td style=\"text-align: right;\"> 0.0160578 </td><td style=\"text-align: right;\"> 0.0161743 </td><td style=\"text-align: right;\"> 0.016297  </td><td style=\"text-align: right;\"> 0.01642   </td><td style=\"text-align: right;\"> 0.0165458 </td><td style=\"text-align: right;\"> 0.0166774 </td><td style=\"text-align: right;\"> 0.0168072 </td><td style=\"text-align: right;\"> 0.0169316 </td><td style=\"text-align: right;\"> 0.0170518 </td><td style=\"text-align: right;\"> 0.0171745 </td></tr>\n",
       "</tbody>\n",
       "</table>"
      ]
     },
     "metadata": {},
     "output_type": "display_data"
    },
    {
     "data": {
      "text/plain": []
     },
     "execution_count": 4,
     "metadata": {},
     "output_type": "execute_result"
    }
   ],
   "source": [
    "all_data.head()"
   ]
  },
  {
   "cell_type": "code",
   "execution_count": 5,
   "metadata": {
    "collapsed": true
   },
   "outputs": [],
   "source": [
    "# change data type\n",
    "all_data['C1'] = all_data['C1'].asfactor()"
   ]
  },
  {
   "cell_type": "code",
   "execution_count": 24,
   "metadata": {
    "collapsed": true
   },
   "outputs": [],
   "source": [
    "## METHOD 2\n",
    "# # Construct validation and training datasets by sampling (40/60)\n",
    "iloc = all_data[0].runif()\n",
    "train = all_data[iloc < 0.6]\n",
    "valid = all_data[iloc >= 0.6]"
   ]
  },
  {
   "cell_type": "code",
   "execution_count": 25,
   "metadata": {
    "collapsed": false
   },
   "outputs": [
    {
     "name": "stdout",
     "output_type": "stream",
     "text": [
      "('train shape', (19, 8153))\n",
      "('validation shape', (11, 8153))\n"
     ]
    }
   ],
   "source": [
    "## get the shape of each of the datasets\n",
    "print ('train shape', train.shape)\n",
    "print ('validation shape', valid.shape)"
   ]
  },
  {
   "cell_type": "code",
   "execution_count": 26,
   "metadata": {
    "collapsed": true
   },
   "outputs": [],
   "source": [
    "# get column name\n",
    "response = all_data.col_names[0]\n",
    "predictors = all_data.col_names[1:]     "
   ]
  },
  {
   "cell_type": "code",
   "execution_count": 27,
   "metadata": {
    "collapsed": true
   },
   "outputs": [],
   "source": [
    "response"
   ]
  },
  {
   "cell_type": "code",
   "execution_count": 28,
   "metadata": {
    "collapsed": true
   },
   "outputs": [],
   "source": [
    "predictors"
   ]
  },
  {
   "cell_type": "code",
   "execution_count": 29,
   "metadata": {
    "collapsed": true
   },
   "outputs": [],
   "source": [
    "#####################################\n",
    "#DEEP LEARNING"
   ]
  },
  {
   "cell_type": "code",
   "execution_count": 51,
   "metadata": {
    "collapsed": true
   },
   "outputs": [],
   "source": [
    "## Deep Learning\n",
    "dl_2 = H2ODeepLearningEstimator(\n",
    "    hidden=[400,200,50],            # hidden layer   \n",
    "    epochs=150,                     # iteration       \n",
    "    score_duty_cycle=0.025,         # don't score more than 2.5% of the wall time\n",
    "    adaptive_rate=True,             # X manually tuned learning rate\n",
    "    rate=0.01, \n",
    "    rate_annealing=0.000002,            \n",
    "    momentum_start=0.2,             # manually tuned momentum\n",
    "    momentum_stable=0.4, \n",
    "    variable_importances=True)"
   ]
  },
  {
   "cell_type": "code",
   "execution_count": 52,
   "metadata": {
    "collapsed": false
   },
   "outputs": [
    {
     "name": "stdout",
     "output_type": "stream",
     "text": [
      "deeplearning Model Build progress: |██████████████████████████████████████| 100%\n"
     ]
    }
   ],
   "source": [
    "dl_2.train(x=predictors, y=response, training_frame=train, validation_frame = valid)"
   ]
  },
  {
   "cell_type": "code",
   "execution_count": 53,
   "metadata": {
    "collapsed": false
   },
   "outputs": [
    {
     "name": "stdout",
     "output_type": "stream",
     "text": [
      "Model Details\n",
      "=============\n",
      "H2ODeepLearningEstimator :  Deep Learning\n",
      "Model Key:  DeepLearning_model_python_1606047218716_4\n",
      "\n",
      "\n",
      "Status of Neuron Layers: predicting C1, 5-class classification, multinomial distribution, CrossEntropy loss, 3,351,705 weights/biases, 40.1 MB, 190 training samples, mini-batch size 1\n"
     ]
    },
    {
     "data": {
      "text/html": [
       "<div>\n",
       "<style scoped>\n",
       "    .dataframe tbody tr th:only-of-type {\n",
       "        vertical-align: middle;\n",
       "    }\n",
       "\n",
       "    .dataframe tbody tr th {\n",
       "        vertical-align: top;\n",
       "    }\n",
       "\n",
       "    .dataframe thead th {\n",
       "        text-align: right;\n",
       "    }\n",
       "</style>\n",
       "<table border=\"1\" class=\"dataframe\">\n",
       "  <thead>\n",
       "    <tr style=\"text-align: right;\">\n",
       "      <th></th>\n",
       "      <th></th>\n",
       "      <th>layer</th>\n",
       "      <th>units</th>\n",
       "      <th>type</th>\n",
       "      <th>dropout</th>\n",
       "      <th>l1</th>\n",
       "      <th>l2</th>\n",
       "      <th>mean_rate</th>\n",
       "      <th>rate_rms</th>\n",
       "      <th>momentum</th>\n",
       "      <th>mean_weight</th>\n",
       "      <th>weight_rms</th>\n",
       "      <th>mean_bias</th>\n",
       "      <th>bias_rms</th>\n",
       "    </tr>\n",
       "  </thead>\n",
       "  <tbody>\n",
       "    <tr>\n",
       "      <th>0</th>\n",
       "      <td></td>\n",
       "      <td>1</td>\n",
       "      <td>8152</td>\n",
       "      <td>Input</td>\n",
       "      <td>0</td>\n",
       "      <td></td>\n",
       "      <td></td>\n",
       "      <td></td>\n",
       "      <td></td>\n",
       "      <td></td>\n",
       "      <td></td>\n",
       "      <td></td>\n",
       "      <td></td>\n",
       "      <td></td>\n",
       "    </tr>\n",
       "    <tr>\n",
       "      <th>1</th>\n",
       "      <td></td>\n",
       "      <td>2</td>\n",
       "      <td>400</td>\n",
       "      <td>Rectifier</td>\n",
       "      <td>0</td>\n",
       "      <td>0</td>\n",
       "      <td>0</td>\n",
       "      <td>0.00805028</td>\n",
       "      <td>0.020358</td>\n",
       "      <td>0</td>\n",
       "      <td>-3.34075e-05</td>\n",
       "      <td>0.0151973</td>\n",
       "      <td>0.499777</td>\n",
       "      <td>0.0019506</td>\n",
       "    </tr>\n",
       "    <tr>\n",
       "      <th>2</th>\n",
       "      <td></td>\n",
       "      <td>3</td>\n",
       "      <td>200</td>\n",
       "      <td>Rectifier</td>\n",
       "      <td>0</td>\n",
       "      <td>0</td>\n",
       "      <td>0</td>\n",
       "      <td>0.0722868</td>\n",
       "      <td>0.242503</td>\n",
       "      <td>0</td>\n",
       "      <td>-0.000228906</td>\n",
       "      <td>0.057057</td>\n",
       "      <td>0.999891</td>\n",
       "      <td>0.00145887</td>\n",
       "    </tr>\n",
       "    <tr>\n",
       "      <th>3</th>\n",
       "      <td></td>\n",
       "      <td>4</td>\n",
       "      <td>50</td>\n",
       "      <td>Rectifier</td>\n",
       "      <td>0</td>\n",
       "      <td>0</td>\n",
       "      <td>0</td>\n",
       "      <td>0.152726</td>\n",
       "      <td>0.366476</td>\n",
       "      <td>0</td>\n",
       "      <td>-0.00163026</td>\n",
       "      <td>0.0927096</td>\n",
       "      <td>0.999757</td>\n",
       "      <td>0.00103069</td>\n",
       "    </tr>\n",
       "    <tr>\n",
       "      <th>4</th>\n",
       "      <td></td>\n",
       "      <td>5</td>\n",
       "      <td>5</td>\n",
       "      <td>Softmax</td>\n",
       "      <td></td>\n",
       "      <td>0</td>\n",
       "      <td>0</td>\n",
       "      <td>0.178907</td>\n",
       "      <td>0.381876</td>\n",
       "      <td>0</td>\n",
       "      <td>0.0242426</td>\n",
       "      <td>0.777749</td>\n",
       "      <td>-0.000260567</td>\n",
       "      <td>0.000599414</td>\n",
       "    </tr>\n",
       "  </tbody>\n",
       "</table>\n",
       "</div>"
      ],
      "text/plain": [
       "     layer  units       type dropout l1 l2   mean_rate  rate_rms momentum  \\\n",
       "0        1   8152      Input       0                                        \n",
       "1        2    400  Rectifier       0  0  0  0.00805028  0.020358        0   \n",
       "2        3    200  Rectifier       0  0  0   0.0722868  0.242503        0   \n",
       "3        4     50  Rectifier       0  0  0    0.152726  0.366476        0   \n",
       "4        5      5    Softmax          0  0    0.178907  0.381876        0   \n",
       "\n",
       "   mean_weight weight_rms    mean_bias     bias_rms  \n",
       "0                                                    \n",
       "1 -3.34075e-05  0.0151973     0.499777    0.0019506  \n",
       "2 -0.000228906   0.057057     0.999891   0.00145887  \n",
       "3  -0.00163026  0.0927096     0.999757   0.00103069  \n",
       "4    0.0242426   0.777749 -0.000260567  0.000599414  "
      ]
     },
     "metadata": {},
     "output_type": "display_data"
    },
    {
     "name": "stdout",
     "output_type": "stream",
     "text": [
      "\n",
      "\n",
      "ModelMetricsMultinomial: deeplearning\n",
      "** Reported on train data. **\n",
      "\n",
      "MSE: 1.21367661502e-08\n",
      "RMSE: 0.000110166992109\n",
      "LogLoss: 2.58142019857e-05\n",
      "Mean Per-Class Error: 0.0\n",
      "\n",
      "Confusion Matrix: Row labels: Actual class; Column labels: Predicted class\n"
     ]
    },
    {
     "data": {
      "text/html": [
       "<div>\n",
       "<style scoped>\n",
       "    .dataframe tbody tr th:only-of-type {\n",
       "        vertical-align: middle;\n",
       "    }\n",
       "\n",
       "    .dataframe tbody tr th {\n",
       "        vertical-align: top;\n",
       "    }\n",
       "\n",
       "    .dataframe thead th {\n",
       "        text-align: right;\n",
       "    }\n",
       "</style>\n",
       "<table border=\"1\" class=\"dataframe\">\n",
       "  <thead>\n",
       "    <tr style=\"text-align: right;\">\n",
       "      <th></th>\n",
       "      <th>A_cuspidata</th>\n",
       "      <th>C_falciformis</th>\n",
       "      <th>R_anchylostoma</th>\n",
       "      <th>R_australiae</th>\n",
       "      <th>S_lewini</th>\n",
       "      <th>Error</th>\n",
       "      <th>Rate</th>\n",
       "    </tr>\n",
       "  </thead>\n",
       "  <tbody>\n",
       "    <tr>\n",
       "      <th>0</th>\n",
       "      <td>3.0</td>\n",
       "      <td>0.0</td>\n",
       "      <td>0.0</td>\n",
       "      <td>0.0</td>\n",
       "      <td>0.0</td>\n",
       "      <td>0.0</td>\n",
       "      <td>0 / 3</td>\n",
       "    </tr>\n",
       "    <tr>\n",
       "      <th>1</th>\n",
       "      <td>0.0</td>\n",
       "      <td>6.0</td>\n",
       "      <td>0.0</td>\n",
       "      <td>0.0</td>\n",
       "      <td>0.0</td>\n",
       "      <td>0.0</td>\n",
       "      <td>0 / 6</td>\n",
       "    </tr>\n",
       "    <tr>\n",
       "      <th>2</th>\n",
       "      <td>0.0</td>\n",
       "      <td>0.0</td>\n",
       "      <td>2.0</td>\n",
       "      <td>0.0</td>\n",
       "      <td>0.0</td>\n",
       "      <td>0.0</td>\n",
       "      <td>0 / 2</td>\n",
       "    </tr>\n",
       "    <tr>\n",
       "      <th>3</th>\n",
       "      <td>0.0</td>\n",
       "      <td>0.0</td>\n",
       "      <td>0.0</td>\n",
       "      <td>1.0</td>\n",
       "      <td>0.0</td>\n",
       "      <td>0.0</td>\n",
       "      <td>0 / 1</td>\n",
       "    </tr>\n",
       "    <tr>\n",
       "      <th>4</th>\n",
       "      <td>0.0</td>\n",
       "      <td>0.0</td>\n",
       "      <td>0.0</td>\n",
       "      <td>0.0</td>\n",
       "      <td>7.0</td>\n",
       "      <td>0.0</td>\n",
       "      <td>0 / 7</td>\n",
       "    </tr>\n",
       "    <tr>\n",
       "      <th>5</th>\n",
       "      <td>3.0</td>\n",
       "      <td>6.0</td>\n",
       "      <td>2.0</td>\n",
       "      <td>1.0</td>\n",
       "      <td>7.0</td>\n",
       "      <td>0.0</td>\n",
       "      <td>0 / 19</td>\n",
       "    </tr>\n",
       "  </tbody>\n",
       "</table>\n",
       "</div>"
      ],
      "text/plain": [
       "   A_cuspidata  C_falciformis  R_anchylostoma  R_australiae  S_lewini  Error  \\\n",
       "0          3.0            0.0             0.0           0.0       0.0    0.0   \n",
       "1          0.0            6.0             0.0           0.0       0.0    0.0   \n",
       "2          0.0            0.0             2.0           0.0       0.0    0.0   \n",
       "3          0.0            0.0             0.0           1.0       0.0    0.0   \n",
       "4          0.0            0.0             0.0           0.0       7.0    0.0   \n",
       "5          3.0            6.0             2.0           1.0       7.0    0.0   \n",
       "\n",
       "     Rate  \n",
       "0   0 / 3  \n",
       "1   0 / 6  \n",
       "2   0 / 2  \n",
       "3   0 / 1  \n",
       "4   0 / 7  \n",
       "5  0 / 19  "
      ]
     },
     "metadata": {},
     "output_type": "display_data"
    },
    {
     "name": "stdout",
     "output_type": "stream",
     "text": [
      "\n",
      "Top-5 Hit Ratios: \n"
     ]
    },
    {
     "data": {
      "text/html": [
       "<div>\n",
       "<style scoped>\n",
       "    .dataframe tbody tr th:only-of-type {\n",
       "        vertical-align: middle;\n",
       "    }\n",
       "\n",
       "    .dataframe tbody tr th {\n",
       "        vertical-align: top;\n",
       "    }\n",
       "\n",
       "    .dataframe thead th {\n",
       "        text-align: right;\n",
       "    }\n",
       "</style>\n",
       "<table border=\"1\" class=\"dataframe\">\n",
       "  <thead>\n",
       "    <tr style=\"text-align: right;\">\n",
       "      <th></th>\n",
       "      <th>k</th>\n",
       "      <th>hit_ratio</th>\n",
       "    </tr>\n",
       "  </thead>\n",
       "  <tbody>\n",
       "    <tr>\n",
       "      <th>0</th>\n",
       "      <td>1</td>\n",
       "      <td>1.0</td>\n",
       "    </tr>\n",
       "    <tr>\n",
       "      <th>1</th>\n",
       "      <td>2</td>\n",
       "      <td>1.0</td>\n",
       "    </tr>\n",
       "    <tr>\n",
       "      <th>2</th>\n",
       "      <td>3</td>\n",
       "      <td>1.0</td>\n",
       "    </tr>\n",
       "    <tr>\n",
       "      <th>3</th>\n",
       "      <td>4</td>\n",
       "      <td>1.0</td>\n",
       "    </tr>\n",
       "    <tr>\n",
       "      <th>4</th>\n",
       "      <td>5</td>\n",
       "      <td>1.0</td>\n",
       "    </tr>\n",
       "  </tbody>\n",
       "</table>\n",
       "</div>"
      ],
      "text/plain": [
       "   k  hit_ratio\n",
       "0  1        1.0\n",
       "1  2        1.0\n",
       "2  3        1.0\n",
       "3  4        1.0\n",
       "4  5        1.0"
      ]
     },
     "metadata": {},
     "output_type": "display_data"
    },
    {
     "name": "stdout",
     "output_type": "stream",
     "text": [
      "\n",
      "ModelMetricsMultinomial: deeplearning\n",
      "** Reported on validation data. **\n",
      "\n",
      "MSE: 1.70794370784e-05\n",
      "RMSE: 0.00413272755918\n",
      "LogLoss: 0.00125509028353\n",
      "Mean Per-Class Error: 0.0\n",
      "\n",
      "Confusion Matrix: Row labels: Actual class; Column labels: Predicted class\n"
     ]
    },
    {
     "data": {
      "text/html": [
       "<div>\n",
       "<style scoped>\n",
       "    .dataframe tbody tr th:only-of-type {\n",
       "        vertical-align: middle;\n",
       "    }\n",
       "\n",
       "    .dataframe tbody tr th {\n",
       "        vertical-align: top;\n",
       "    }\n",
       "\n",
       "    .dataframe thead th {\n",
       "        text-align: right;\n",
       "    }\n",
       "</style>\n",
       "<table border=\"1\" class=\"dataframe\">\n",
       "  <thead>\n",
       "    <tr style=\"text-align: right;\">\n",
       "      <th></th>\n",
       "      <th>A_cuspidata</th>\n",
       "      <th>C_falciformis</th>\n",
       "      <th>R_anchylostoma</th>\n",
       "      <th>R_australiae</th>\n",
       "      <th>S_lewini</th>\n",
       "      <th>Error</th>\n",
       "      <th>Rate</th>\n",
       "    </tr>\n",
       "  </thead>\n",
       "  <tbody>\n",
       "    <tr>\n",
       "      <th>0</th>\n",
       "      <td>0.0</td>\n",
       "      <td>0.0</td>\n",
       "      <td>0.0</td>\n",
       "      <td>0.0</td>\n",
       "      <td>0.0</td>\n",
       "      <td>NaN</td>\n",
       "      <td>0 / 0</td>\n",
       "    </tr>\n",
       "    <tr>\n",
       "      <th>1</th>\n",
       "      <td>0.0</td>\n",
       "      <td>3.0</td>\n",
       "      <td>0.0</td>\n",
       "      <td>0.0</td>\n",
       "      <td>0.0</td>\n",
       "      <td>0.0</td>\n",
       "      <td>0 / 3</td>\n",
       "    </tr>\n",
       "    <tr>\n",
       "      <th>2</th>\n",
       "      <td>0.0</td>\n",
       "      <td>0.0</td>\n",
       "      <td>4.0</td>\n",
       "      <td>0.0</td>\n",
       "      <td>0.0</td>\n",
       "      <td>0.0</td>\n",
       "      <td>0 / 4</td>\n",
       "    </tr>\n",
       "    <tr>\n",
       "      <th>3</th>\n",
       "      <td>0.0</td>\n",
       "      <td>0.0</td>\n",
       "      <td>0.0</td>\n",
       "      <td>2.0</td>\n",
       "      <td>0.0</td>\n",
       "      <td>0.0</td>\n",
       "      <td>0 / 2</td>\n",
       "    </tr>\n",
       "    <tr>\n",
       "      <th>4</th>\n",
       "      <td>0.0</td>\n",
       "      <td>0.0</td>\n",
       "      <td>0.0</td>\n",
       "      <td>0.0</td>\n",
       "      <td>2.0</td>\n",
       "      <td>0.0</td>\n",
       "      <td>0 / 2</td>\n",
       "    </tr>\n",
       "    <tr>\n",
       "      <th>5</th>\n",
       "      <td>0.0</td>\n",
       "      <td>3.0</td>\n",
       "      <td>4.0</td>\n",
       "      <td>2.0</td>\n",
       "      <td>2.0</td>\n",
       "      <td>0.0</td>\n",
       "      <td>0 / 11</td>\n",
       "    </tr>\n",
       "  </tbody>\n",
       "</table>\n",
       "</div>"
      ],
      "text/plain": [
       "   A_cuspidata  C_falciformis  R_anchylostoma  R_australiae  S_lewini  Error  \\\n",
       "0          0.0            0.0             0.0           0.0       0.0    NaN   \n",
       "1          0.0            3.0             0.0           0.0       0.0    0.0   \n",
       "2          0.0            0.0             4.0           0.0       0.0    0.0   \n",
       "3          0.0            0.0             0.0           2.0       0.0    0.0   \n",
       "4          0.0            0.0             0.0           0.0       2.0    0.0   \n",
       "5          0.0            3.0             4.0           2.0       2.0    0.0   \n",
       "\n",
       "     Rate  \n",
       "0   0 / 0  \n",
       "1   0 / 3  \n",
       "2   0 / 4  \n",
       "3   0 / 2  \n",
       "4   0 / 2  \n",
       "5  0 / 11  "
      ]
     },
     "metadata": {},
     "output_type": "display_data"
    },
    {
     "name": "stdout",
     "output_type": "stream",
     "text": [
      "\n",
      "Top-5 Hit Ratios: \n"
     ]
    },
    {
     "data": {
      "text/html": [
       "<div>\n",
       "<style scoped>\n",
       "    .dataframe tbody tr th:only-of-type {\n",
       "        vertical-align: middle;\n",
       "    }\n",
       "\n",
       "    .dataframe tbody tr th {\n",
       "        vertical-align: top;\n",
       "    }\n",
       "\n",
       "    .dataframe thead th {\n",
       "        text-align: right;\n",
       "    }\n",
       "</style>\n",
       "<table border=\"1\" class=\"dataframe\">\n",
       "  <thead>\n",
       "    <tr style=\"text-align: right;\">\n",
       "      <th></th>\n",
       "      <th>k</th>\n",
       "      <th>hit_ratio</th>\n",
       "    </tr>\n",
       "  </thead>\n",
       "  <tbody>\n",
       "    <tr>\n",
       "      <th>0</th>\n",
       "      <td>1</td>\n",
       "      <td>1.0</td>\n",
       "    </tr>\n",
       "    <tr>\n",
       "      <th>1</th>\n",
       "      <td>2</td>\n",
       "      <td>1.0</td>\n",
       "    </tr>\n",
       "    <tr>\n",
       "      <th>2</th>\n",
       "      <td>3</td>\n",
       "      <td>1.0</td>\n",
       "    </tr>\n",
       "    <tr>\n",
       "      <th>3</th>\n",
       "      <td>4</td>\n",
       "      <td>1.0</td>\n",
       "    </tr>\n",
       "    <tr>\n",
       "      <th>4</th>\n",
       "      <td>5</td>\n",
       "      <td>1.0</td>\n",
       "    </tr>\n",
       "  </tbody>\n",
       "</table>\n",
       "</div>"
      ],
      "text/plain": [
       "   k  hit_ratio\n",
       "0  1        1.0\n",
       "1  2        1.0\n",
       "2  3        1.0\n",
       "3  4        1.0\n",
       "4  5        1.0"
      ]
     },
     "metadata": {},
     "output_type": "display_data"
    },
    {
     "name": "stdout",
     "output_type": "stream",
     "text": [
      "\n",
      "Scoring History: \n"
     ]
    },
    {
     "data": {
      "text/html": [
       "<div>\n",
       "<style scoped>\n",
       "    .dataframe tbody tr th:only-of-type {\n",
       "        vertical-align: middle;\n",
       "    }\n",
       "\n",
       "    .dataframe tbody tr th {\n",
       "        vertical-align: top;\n",
       "    }\n",
       "\n",
       "    .dataframe thead th {\n",
       "        text-align: right;\n",
       "    }\n",
       "</style>\n",
       "<table border=\"1\" class=\"dataframe\">\n",
       "  <thead>\n",
       "    <tr style=\"text-align: right;\">\n",
       "      <th></th>\n",
       "      <th></th>\n",
       "      <th>timestamp</th>\n",
       "      <th>duration</th>\n",
       "      <th>training_speed</th>\n",
       "      <th>epochs</th>\n",
       "      <th>iterations</th>\n",
       "      <th>samples</th>\n",
       "      <th>training_rmse</th>\n",
       "      <th>training_logloss</th>\n",
       "      <th>training_r2</th>\n",
       "      <th>training_classification_error</th>\n",
       "      <th>validation_rmse</th>\n",
       "      <th>validation_logloss</th>\n",
       "      <th>validation_r2</th>\n",
       "      <th>validation_classification_error</th>\n",
       "    </tr>\n",
       "  </thead>\n",
       "  <tbody>\n",
       "    <tr>\n",
       "      <th>0</th>\n",
       "      <td></td>\n",
       "      <td>2020-11-22 12:34:38</td>\n",
       "      <td>0.000 sec</td>\n",
       "      <td>None</td>\n",
       "      <td>0.0</td>\n",
       "      <td>0</td>\n",
       "      <td>0.0</td>\n",
       "      <td>NaN</td>\n",
       "      <td>NaN</td>\n",
       "      <td>NaN</td>\n",
       "      <td>NaN</td>\n",
       "      <td>NaN</td>\n",
       "      <td>NaN</td>\n",
       "      <td>NaN</td>\n",
       "      <td>NaN</td>\n",
       "    </tr>\n",
       "    <tr>\n",
       "      <th>1</th>\n",
       "      <td></td>\n",
       "      <td>2020-11-22 12:34:41</td>\n",
       "      <td>6.864 sec</td>\n",
       "      <td>73 obs/sec</td>\n",
       "      <td>10.0</td>\n",
       "      <td>1</td>\n",
       "      <td>190.0</td>\n",
       "      <td>0.00011</td>\n",
       "      <td>0.000026</td>\n",
       "      <td>1.0</td>\n",
       "      <td>0.0</td>\n",
       "      <td>0.004133</td>\n",
       "      <td>0.001255</td>\n",
       "      <td>0.999985</td>\n",
       "      <td>0.0</td>\n",
       "    </tr>\n",
       "  </tbody>\n",
       "</table>\n",
       "</div>"
      ],
      "text/plain": [
       "               timestamp    duration training_speed  epochs  iterations  \\\n",
       "0    2020-11-22 12:34:38   0.000 sec           None     0.0           0   \n",
       "1    2020-11-22 12:34:41   6.864 sec     73 obs/sec    10.0           1   \n",
       "\n",
       "   samples  training_rmse  training_logloss  training_r2  \\\n",
       "0      0.0            NaN               NaN          NaN   \n",
       "1    190.0        0.00011          0.000026          1.0   \n",
       "\n",
       "   training_classification_error  validation_rmse  validation_logloss  \\\n",
       "0                            NaN              NaN                 NaN   \n",
       "1                            0.0         0.004133            0.001255   \n",
       "\n",
       "   validation_r2  validation_classification_error  \n",
       "0            NaN                              NaN  \n",
       "1       0.999985                              0.0  "
      ]
     },
     "metadata": {},
     "output_type": "display_data"
    },
    {
     "name": "stdout",
     "output_type": "stream",
     "text": [
      "\n",
      "Variable Importances: \n"
     ]
    },
    {
     "data": {
      "text/html": [
       "<div>\n",
       "<style scoped>\n",
       "    .dataframe tbody tr th:only-of-type {\n",
       "        vertical-align: middle;\n",
       "    }\n",
       "\n",
       "    .dataframe tbody tr th {\n",
       "        vertical-align: top;\n",
       "    }\n",
       "\n",
       "    .dataframe thead th {\n",
       "        text-align: right;\n",
       "    }\n",
       "</style>\n",
       "<table border=\"1\" class=\"dataframe\">\n",
       "  <thead>\n",
       "    <tr style=\"text-align: right;\">\n",
       "      <th></th>\n",
       "      <th>variable</th>\n",
       "      <th>relative_importance</th>\n",
       "      <th>scaled_importance</th>\n",
       "      <th>percentage</th>\n",
       "    </tr>\n",
       "  </thead>\n",
       "  <tbody>\n",
       "    <tr>\n",
       "      <th>0</th>\n",
       "      <td>C7299</td>\n",
       "      <td>1.000000</td>\n",
       "      <td>1.000000</td>\n",
       "      <td>0.000138</td>\n",
       "    </tr>\n",
       "    <tr>\n",
       "      <th>1</th>\n",
       "      <td>C219</td>\n",
       "      <td>0.998996</td>\n",
       "      <td>0.998996</td>\n",
       "      <td>0.000138</td>\n",
       "    </tr>\n",
       "    <tr>\n",
       "      <th>2</th>\n",
       "      <td>C5342</td>\n",
       "      <td>0.990500</td>\n",
       "      <td>0.990500</td>\n",
       "      <td>0.000137</td>\n",
       "    </tr>\n",
       "    <tr>\n",
       "      <th>3</th>\n",
       "      <td>C5143</td>\n",
       "      <td>0.985872</td>\n",
       "      <td>0.985872</td>\n",
       "      <td>0.000136</td>\n",
       "    </tr>\n",
       "    <tr>\n",
       "      <th>4</th>\n",
       "      <td>C1451</td>\n",
       "      <td>0.984834</td>\n",
       "      <td>0.984834</td>\n",
       "      <td>0.000136</td>\n",
       "    </tr>\n",
       "    <tr>\n",
       "      <th>5</th>\n",
       "      <td>C7093</td>\n",
       "      <td>0.982610</td>\n",
       "      <td>0.982610</td>\n",
       "      <td>0.000135</td>\n",
       "    </tr>\n",
       "    <tr>\n",
       "      <th>6</th>\n",
       "      <td>C7020</td>\n",
       "      <td>0.982547</td>\n",
       "      <td>0.982547</td>\n",
       "      <td>0.000135</td>\n",
       "    </tr>\n",
       "    <tr>\n",
       "      <th>7</th>\n",
       "      <td>C1780</td>\n",
       "      <td>0.978271</td>\n",
       "      <td>0.978271</td>\n",
       "      <td>0.000135</td>\n",
       "    </tr>\n",
       "    <tr>\n",
       "      <th>8</th>\n",
       "      <td>C4872</td>\n",
       "      <td>0.978196</td>\n",
       "      <td>0.978196</td>\n",
       "      <td>0.000135</td>\n",
       "    </tr>\n",
       "    <tr>\n",
       "      <th>9</th>\n",
       "      <td>C2024</td>\n",
       "      <td>0.974972</td>\n",
       "      <td>0.974972</td>\n",
       "      <td>0.000134</td>\n",
       "    </tr>\n",
       "    <tr>\n",
       "      <th>10</th>\n",
       "      <td>C3303</td>\n",
       "      <td>0.974684</td>\n",
       "      <td>0.974684</td>\n",
       "      <td>0.000134</td>\n",
       "    </tr>\n",
       "    <tr>\n",
       "      <th>11</th>\n",
       "      <td>C88</td>\n",
       "      <td>0.973629</td>\n",
       "      <td>0.973629</td>\n",
       "      <td>0.000134</td>\n",
       "    </tr>\n",
       "    <tr>\n",
       "      <th>12</th>\n",
       "      <td>C276</td>\n",
       "      <td>0.972114</td>\n",
       "      <td>0.972114</td>\n",
       "      <td>0.000134</td>\n",
       "    </tr>\n",
       "    <tr>\n",
       "      <th>13</th>\n",
       "      <td>C7473</td>\n",
       "      <td>0.971891</td>\n",
       "      <td>0.971891</td>\n",
       "      <td>0.000134</td>\n",
       "    </tr>\n",
       "    <tr>\n",
       "      <th>14</th>\n",
       "      <td>C5872</td>\n",
       "      <td>0.970243</td>\n",
       "      <td>0.970243</td>\n",
       "      <td>0.000134</td>\n",
       "    </tr>\n",
       "    <tr>\n",
       "      <th>15</th>\n",
       "      <td>C575</td>\n",
       "      <td>0.969564</td>\n",
       "      <td>0.969564</td>\n",
       "      <td>0.000134</td>\n",
       "    </tr>\n",
       "    <tr>\n",
       "      <th>16</th>\n",
       "      <td>C6563</td>\n",
       "      <td>0.967771</td>\n",
       "      <td>0.967771</td>\n",
       "      <td>0.000133</td>\n",
       "    </tr>\n",
       "    <tr>\n",
       "      <th>17</th>\n",
       "      <td>C5151</td>\n",
       "      <td>0.967037</td>\n",
       "      <td>0.967037</td>\n",
       "      <td>0.000133</td>\n",
       "    </tr>\n",
       "    <tr>\n",
       "      <th>18</th>\n",
       "      <td>C1384</td>\n",
       "      <td>0.966590</td>\n",
       "      <td>0.966590</td>\n",
       "      <td>0.000133</td>\n",
       "    </tr>\n",
       "    <tr>\n",
       "      <th>19</th>\n",
       "      <td>C4178</td>\n",
       "      <td>0.966179</td>\n",
       "      <td>0.966179</td>\n",
       "      <td>0.000133</td>\n",
       "    </tr>\n",
       "  </tbody>\n",
       "</table>\n",
       "</div>"
      ],
      "text/plain": [
       "   variable  relative_importance  scaled_importance  percentage\n",
       "0     C7299             1.000000           1.000000    0.000138\n",
       "1      C219             0.998996           0.998996    0.000138\n",
       "2     C5342             0.990500           0.990500    0.000137\n",
       "3     C5143             0.985872           0.985872    0.000136\n",
       "4     C1451             0.984834           0.984834    0.000136\n",
       "5     C7093             0.982610           0.982610    0.000135\n",
       "6     C7020             0.982547           0.982547    0.000135\n",
       "7     C1780             0.978271           0.978271    0.000135\n",
       "8     C4872             0.978196           0.978196    0.000135\n",
       "9     C2024             0.974972           0.974972    0.000134\n",
       "10    C3303             0.974684           0.974684    0.000134\n",
       "11      C88             0.973629           0.973629    0.000134\n",
       "12     C276             0.972114           0.972114    0.000134\n",
       "13    C7473             0.971891           0.971891    0.000134\n",
       "14    C5872             0.970243           0.970243    0.000134\n",
       "15     C575             0.969564           0.969564    0.000134\n",
       "16    C6563             0.967771           0.967771    0.000133\n",
       "17    C5151             0.967037           0.967037    0.000133\n",
       "18    C1384             0.966590           0.966590    0.000133\n",
       "19    C4178             0.966179           0.966179    0.000133"
      ]
     },
     "metadata": {},
     "output_type": "display_data"
    },
    {
     "name": "stdout",
     "output_type": "stream",
     "text": [
      "\n",
      "See the whole table with table.as_data_frame()\n"
     ]
    },
    {
     "data": {
      "text/plain": []
     },
     "execution_count": 53,
     "metadata": {},
     "output_type": "execute_result"
    }
   ],
   "source": [
    "dl_2"
   ]
  },
  {
   "cell_type": "code",
   "execution_count": 54,
   "metadata": {
    "collapsed": false
   },
   "outputs": [
    {
     "data": {
      "text/plain": [
       "0    NaN\n",
       "1    0.0\n",
       "Name: training_classification_error, dtype: float64"
      ]
     },
     "execution_count": 54,
     "metadata": {},
     "output_type": "execute_result"
    }
   ],
   "source": [
    "cov_tuned_df = dl_2.scoring_history()\n",
    "cov_tuned_df['training_classification_error']"
   ]
  },
  {
   "cell_type": "code",
   "execution_count": 55,
   "metadata": {
    "collapsed": false
   },
   "outputs": [
    {
     "name": "stdout",
     "output_type": "stream",
     "text": [
      "deeplearning prediction progress: |███████████████████████████████████████| 100%\n"
     ]
    }
   ],
   "source": [
    "pred = dl_2.predict(valid[:, 1:8153]).as_data_frame(use_pandas=True)\n",
    "test_actual = valid.as_data_frame(use_pandas=True)['C1']"
   ]
  },
  {
   "cell_type": "code",
   "execution_count": 56,
   "metadata": {
    "collapsed": false
   },
   "outputs": [
    {
     "data": {
      "text/html": [
       "<div>\n",
       "<style scoped>\n",
       "    .dataframe tbody tr th:only-of-type {\n",
       "        vertical-align: middle;\n",
       "    }\n",
       "\n",
       "    .dataframe tbody tr th {\n",
       "        vertical-align: top;\n",
       "    }\n",
       "\n",
       "    .dataframe thead th {\n",
       "        text-align: right;\n",
       "    }\n",
       "</style>\n",
       "<table border=\"1\" class=\"dataframe\">\n",
       "  <thead>\n",
       "    <tr style=\"text-align: right;\">\n",
       "      <th></th>\n",
       "      <th>predict</th>\n",
       "      <th>A_cuspidata</th>\n",
       "      <th>C_falciformis</th>\n",
       "      <th>R_anchylostoma</th>\n",
       "      <th>R_australiae</th>\n",
       "      <th>S_lewini</th>\n",
       "    </tr>\n",
       "  </thead>\n",
       "  <tbody>\n",
       "    <tr>\n",
       "      <th>0</th>\n",
       "      <td>S_lewini</td>\n",
       "      <td>2.075892e-42</td>\n",
       "      <td>1.673259e-24</td>\n",
       "      <td>4.289816e-38</td>\n",
       "      <td>1.419154e-40</td>\n",
       "      <td>1.000000e+00</td>\n",
       "    </tr>\n",
       "    <tr>\n",
       "      <th>1</th>\n",
       "      <td>S_lewini</td>\n",
       "      <td>6.240052e-43</td>\n",
       "      <td>7.681978e-28</td>\n",
       "      <td>2.634379e-36</td>\n",
       "      <td>1.372697e-43</td>\n",
       "      <td>1.000000e+00</td>\n",
       "    </tr>\n",
       "    <tr>\n",
       "      <th>2</th>\n",
       "      <td>R_australiae</td>\n",
       "      <td>3.735759e-68</td>\n",
       "      <td>4.546841e-54</td>\n",
       "      <td>1.143392e-47</td>\n",
       "      <td>1.000000e+00</td>\n",
       "      <td>1.930460e-53</td>\n",
       "    </tr>\n",
       "    <tr>\n",
       "      <th>3</th>\n",
       "      <td>R_australiae</td>\n",
       "      <td>7.370325e-65</td>\n",
       "      <td>1.985882e-54</td>\n",
       "      <td>1.399040e-41</td>\n",
       "      <td>1.000000e+00</td>\n",
       "      <td>1.803639e-48</td>\n",
       "    </tr>\n",
       "    <tr>\n",
       "      <th>4</th>\n",
       "      <td>C_falciformis</td>\n",
       "      <td>7.062322e-32</td>\n",
       "      <td>9.999955e-01</td>\n",
       "      <td>1.851311e-29</td>\n",
       "      <td>3.410678e-24</td>\n",
       "      <td>4.480117e-06</td>\n",
       "    </tr>\n",
       "    <tr>\n",
       "      <th>5</th>\n",
       "      <td>C_falciformis</td>\n",
       "      <td>8.484052e-39</td>\n",
       "      <td>1.000000e+00</td>\n",
       "      <td>4.772813e-30</td>\n",
       "      <td>3.161692e-31</td>\n",
       "      <td>9.684051e-11</td>\n",
       "    </tr>\n",
       "    <tr>\n",
       "      <th>6</th>\n",
       "      <td>C_falciformis</td>\n",
       "      <td>2.618596e-14</td>\n",
       "      <td>1.000000e+00</td>\n",
       "      <td>5.680136e-32</td>\n",
       "      <td>1.227300e-15</td>\n",
       "      <td>1.122467e-12</td>\n",
       "    </tr>\n",
       "    <tr>\n",
       "      <th>7</th>\n",
       "      <td>R_anchylostoma</td>\n",
       "      <td>8.484916e-31</td>\n",
       "      <td>1.307830e-14</td>\n",
       "      <td>1.000000e+00</td>\n",
       "      <td>1.570235e-31</td>\n",
       "      <td>7.952335e-25</td>\n",
       "    </tr>\n",
       "    <tr>\n",
       "      <th>8</th>\n",
       "      <td>R_anchylostoma</td>\n",
       "      <td>1.905163e-27</td>\n",
       "      <td>1.524781e-21</td>\n",
       "      <td>1.000000e+00</td>\n",
       "      <td>1.374207e-22</td>\n",
       "      <td>7.626041e-28</td>\n",
       "    </tr>\n",
       "    <tr>\n",
       "      <th>9</th>\n",
       "      <td>R_anchylostoma</td>\n",
       "      <td>1.370666e-02</td>\n",
       "      <td>1.947538e-29</td>\n",
       "      <td>9.862933e-01</td>\n",
       "      <td>4.428865e-08</td>\n",
       "      <td>4.122646e-23</td>\n",
       "    </tr>\n",
       "    <tr>\n",
       "      <th>10</th>\n",
       "      <td>R_anchylostoma</td>\n",
       "      <td>4.573315e-16</td>\n",
       "      <td>5.585624e-29</td>\n",
       "      <td>1.000000e+00</td>\n",
       "      <td>2.758349e-09</td>\n",
       "      <td>1.616194e-26</td>\n",
       "    </tr>\n",
       "  </tbody>\n",
       "</table>\n",
       "</div>"
      ],
      "text/plain": [
       "           predict   A_cuspidata  C_falciformis  R_anchylostoma  R_australiae  \\\n",
       "0         S_lewini  2.075892e-42   1.673259e-24    4.289816e-38  1.419154e-40   \n",
       "1         S_lewini  6.240052e-43   7.681978e-28    2.634379e-36  1.372697e-43   \n",
       "2     R_australiae  3.735759e-68   4.546841e-54    1.143392e-47  1.000000e+00   \n",
       "3     R_australiae  7.370325e-65   1.985882e-54    1.399040e-41  1.000000e+00   \n",
       "4    C_falciformis  7.062322e-32   9.999955e-01    1.851311e-29  3.410678e-24   \n",
       "5    C_falciformis  8.484052e-39   1.000000e+00    4.772813e-30  3.161692e-31   \n",
       "6    C_falciformis  2.618596e-14   1.000000e+00    5.680136e-32  1.227300e-15   \n",
       "7   R_anchylostoma  8.484916e-31   1.307830e-14    1.000000e+00  1.570235e-31   \n",
       "8   R_anchylostoma  1.905163e-27   1.524781e-21    1.000000e+00  1.374207e-22   \n",
       "9   R_anchylostoma  1.370666e-02   1.947538e-29    9.862933e-01  4.428865e-08   \n",
       "10  R_anchylostoma  4.573315e-16   5.585624e-29    1.000000e+00  2.758349e-09   \n",
       "\n",
       "        S_lewini  \n",
       "0   1.000000e+00  \n",
       "1   1.000000e+00  \n",
       "2   1.930460e-53  \n",
       "3   1.803639e-48  \n",
       "4   4.480117e-06  \n",
       "5   9.684051e-11  \n",
       "6   1.122467e-12  \n",
       "7   7.952335e-25  \n",
       "8   7.626041e-28  \n",
       "9   4.122646e-23  \n",
       "10  1.616194e-26  "
      ]
     },
     "execution_count": 56,
     "metadata": {},
     "output_type": "execute_result"
    }
   ],
   "source": [
    "pred"
   ]
  },
  {
   "cell_type": "code",
   "execution_count": 57,
   "metadata": {
    "collapsed": true
   },
   "outputs": [],
   "source": [
    "# test data\n",
    "#valid[:, 1:2048]"
   ]
  },
  {
   "cell_type": "code",
   "execution_count": 58,
   "metadata": {
    "collapsed": false
   },
   "outputs": [
    {
     "data": {
      "text/plain": [
       "0           S_lewini\n",
       "1           S_lewini\n",
       "2       R_australiae\n",
       "3       R_australiae\n",
       "4      C_falciformis\n",
       "5      C_falciformis\n",
       "6      C_falciformis\n",
       "7     R_anchylostoma\n",
       "8     R_anchylostoma\n",
       "9     R_anchylostoma\n",
       "10    R_anchylostoma\n",
       "Name: C1, dtype: object"
      ]
     },
     "execution_count": 58,
     "metadata": {},
     "output_type": "execute_result"
    }
   ],
   "source": [
    "# hasil prediksi\n",
    "test_actual"
   ]
  },
  {
   "cell_type": "code",
   "execution_count": 59,
   "metadata": {
    "collapsed": false
   },
   "outputs": [
    {
     "data": {
      "text/plain": [
       "1.0"
      ]
     },
     "execution_count": 59,
     "metadata": {},
     "output_type": "execute_result"
    }
   ],
   "source": [
    "(test_actual == pred['predict']).mean()"
   ]
  },
  {
   "cell_type": "code",
   "execution_count": 60,
   "metadata": {
    "collapsed": false
   },
   "outputs": [
    {
     "name": "stdout",
     "output_type": "stream",
     "text": [
      "/home/local/ISDADS/ezp715/Documents/LearnPython/FASTFishID/Output/DeepLearning_model_python_1606047218716_4\n"
     ]
    }
   ],
   "source": [
    "# save the model via h20\n",
    "model_path = h2o.save_model(model=dl_2, path=\"Output\", force=True)\n",
    "print model_path"
   ]
  },
  {
   "cell_type": "code",
   "execution_count": null,
   "metadata": {
    "collapsed": true
   },
   "outputs": [],
   "source": []
  }
 ],
 "metadata": {
  "kernelspec": {
   "display_name": "Python 3",
   "language": "python",
   "name": "python3"
  },
  "language_info": {
   "codemirror_mode": {
    "name": "ipython",
    "version": 3
   },
   "file_extension": ".py",
   "mimetype": "text/x-python",
   "name": "python",
   "nbconvert_exporter": "python",
   "pygments_lexer": "ipython3",
   "version": "3.6.0"
  }
 },
 "nbformat": 4,
 "nbformat_minor": 2
}
